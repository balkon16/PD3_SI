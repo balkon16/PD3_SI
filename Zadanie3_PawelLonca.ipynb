{
 "cells": [
  {
   "cell_type": "markdown",
   "metadata": {
    "colab_type": "text",
    "id": "V1KATslZWXXN"
   },
   "source": [
    "# Runtime i instalacja"
   ]
  },
  {
   "cell_type": "markdown",
   "metadata": {
    "colab_type": "text",
    "id": "A0r_G8i3xZ6X"
   },
   "source": [
    "Zacznijmy od włączenia wsparcia obliczeń kartą graficzną (GPU), która znacznie przyspieszy nasze działania. Może się zdażyć, że nie będzie dostępnych GPU w Colaboratory – wtedy można pracować bez niego, jedynie obliczenia potrwają kilka razy dłużej.\n",
    "\n",
    "Wybieramy w menu **`Runtime`** -> **`Change runtime type`** , a następnie w podmenu **`Hardware accelerator`** wybieramy **`GPU`**.\n",
    "\n",
    "\n",
    "<img style=\"float:left\" src=\"https://www.mimuw.edu.pl/~mm319369/priv/d73890416bec03ff3e2b3756af8c941c/images/change-runtime1.png\">\n",
    "<img src=\"https://www.mimuw.edu.pl/~mm319369/priv/d73890416bec03ff3e2b3756af8c941c/images/change-runtime2.png\">"
   ]
  },
  {
   "cell_type": "markdown",
   "metadata": {
    "colab_type": "text",
    "id": "6KtARNGjy38J"
   },
   "source": [
    "## TFlearn\n",
    "\n",
    "W tym zadaniu będziemy uczyć sieci neuronowe i obserwować jak zachowują się, gdy zmieniamy liczbę neuronów w sieci, funkcje aktywacji i co się dzieje, gdy sieć jest za duża względem danych. Wasze zadanie będzie polegało na odpowiedniej konfiguracji sieci, a następnie narysowaniu wykresów zaobserwowanych rezultatów.\n",
    "\n",
    "Będziemy korzystać z biblioteki [*tflearn*](http://tflearn.org/getting_started/), która jest prostym interfejsem do `tensorflow`.\n",
    "\n",
    "Poniżej ją instalujemy i importujemy potrzebne biblioteki."
   ]
  },
  {
   "cell_type": "code",
   "execution_count": 1,
   "metadata": {
    "colab": {
     "autoexec": {
      "startup": false,
      "wait_interval": 0
     },
     "base_uri": "https://localhost:8080/",
     "height": 476
    },
    "colab_type": "code",
    "executionInfo": {
     "elapsed": 4237,
     "status": "ok",
     "timestamp": 1529052047370,
     "user": {
      "displayName": "Paweł Lonca",
      "photoUrl": "https://lh3.googleusercontent.com/a/default-user=s128",
      "userId": "116249747680176633784"
     },
     "user_tz": -120
    },
    "id": "ZsR41LUrWXXW",
    "outputId": "87a5c1f2-aed5-4635-da17-29adb1fca74a"
   },
   "outputs": [
    {
     "name": "stdout",
     "output_type": "stream",
     "text": [
      "Requirement already satisfied: tflearn in /home/pawel/anaconda3/lib/python3.6/site-packages (0.3.2)\n",
      "Requirement already satisfied: tensorflow in /home/pawel/anaconda3/lib/python3.6/site-packages (1.12.0)\n",
      "Requirement already satisfied: numpy in /home/pawel/.local/lib/python3.6/site-packages (from tflearn) (1.15.1)\n",
      "Requirement already satisfied: Pillow in /home/pawel/.local/lib/python3.6/site-packages (from tflearn) (5.2.0)\n",
      "Requirement already satisfied: six in /home/pawel/.local/lib/python3.6/site-packages (from tflearn) (1.11.0)\n",
      "Requirement already satisfied: protobuf>=3.6.1 in /home/pawel/.local/lib/python3.6/site-packages (from tensorflow) (3.6.1)\n",
      "Requirement already satisfied: wheel>=0.26 in /home/pawel/.local/lib/python3.6/site-packages (from tensorflow) (0.31.1)\n",
      "Requirement already satisfied: gast>=0.2.0 in /home/pawel/.local/lib/python3.6/site-packages (from tensorflow) (0.2.0)\n",
      "Requirement already satisfied: termcolor>=1.1.0 in /home/pawel/.local/lib/python3.6/site-packages (from tensorflow) (1.1.0)\n",
      "Requirement already satisfied: keras-applications>=1.0.6 in /home/pawel/anaconda3/lib/python3.6/site-packages (from tensorflow) (1.0.6)\n",
      "Requirement already satisfied: grpcio>=1.8.6 in /home/pawel/.local/lib/python3.6/site-packages (from tensorflow) (1.15.0)\n",
      "Requirement already satisfied: keras-preprocessing>=1.0.5 in /home/pawel/anaconda3/lib/python3.6/site-packages (from tensorflow) (1.0.5)\n",
      "Requirement already satisfied: tensorboard<1.13.0,>=1.12.0 in /home/pawel/anaconda3/lib/python3.6/site-packages (from tensorflow) (1.12.1)\n",
      "Requirement already satisfied: absl-py>=0.1.6 in /home/pawel/.local/lib/python3.6/site-packages (from tensorflow) (0.5.0)\n",
      "Requirement already satisfied: astor>=0.6.0 in /home/pawel/.local/lib/python3.6/site-packages (from tensorflow) (0.7.1)\n",
      "Requirement already satisfied: setuptools in /home/pawel/.local/lib/python3.6/site-packages (from protobuf>=3.6.1->tensorflow) (40.4.2)\n",
      "Requirement already satisfied: h5py in /home/pawel/anaconda3/lib/python3.6/site-packages (from keras-applications>=1.0.6->tensorflow) (2.8.0)\n",
      "Requirement already satisfied: markdown>=2.6.8 in /home/pawel/.local/lib/python3.6/site-packages (from tensorboard<1.13.0,>=1.12.0->tensorflow) (2.6.11)\n",
      "Requirement already satisfied: werkzeug>=0.11.10 in /home/pawel/.local/lib/python3.6/site-packages (from tensorboard<1.13.0,>=1.12.0->tensorflow) (0.14.1)\n",
      "\u001b[31mfastai 0.7.0 has requirement torch<0.4, but you'll have torch 1.0.0 which is incompatible.\u001b[0m\n",
      "\u001b[33mYou are using pip version 10.0.1, however version 18.1 is available.\n",
      "You should consider upgrading via the 'pip install --upgrade pip' command.\u001b[0m\n"
     ]
    }
   ],
   "source": [
    "!pip install tflearn tensorflow"
   ]
  },
  {
   "cell_type": "code",
   "execution_count": 2,
   "metadata": {
    "colab": {
     "autoexec": {
      "startup": false,
      "wait_interval": 0
     }
    },
    "colab_type": "code",
    "id": "6zMPID31WXXe"
   },
   "outputs": [],
   "source": [
    "from __future__ import division, print_function, absolute_import\n",
    "\n",
    "import time\n",
    "import math\n",
    "\n",
    "import tflearn\n",
    "from tflearn.layers.core import input_data, dropout, fully_connected\n",
    "from tflearn.layers.conv import conv_2d, max_pool_2d\n",
    "from tflearn.layers.normalization import local_response_normalization\n",
    "from tflearn.layers.estimator import regression\n",
    "import tensorflow as tf\n",
    "import numpy as np\n",
    "\n",
    "import matplotlib.pyplot as plt\n",
    "%matplotlib inline\n",
    "\n",
    "# Monkey-patchujemy tflearn, żeby nie wypisywał samemu statystyk,\n",
    "# któe nie działają dobrze w colaboratory\n",
    "tflearn.callbacks.TermLogger.print_termlogs = lambda *args, **kwargs: None"
   ]
  },
  {
   "cell_type": "markdown",
   "metadata": {
    "colab_type": "text",
    "id": "WhVTdq7Z0ama"
   },
   "source": [
    "# Zbiór danych (dataset)\n",
    "\n",
    "Będziemy pracować na już tradycyjnym zbiorze – rozpoznawania odręcznie pisanych cyfr [MNIST](http://yann.lecun.com/exdb/mnist/).\n",
    "Elementy tego zbioru to obrazki 28x28 pikseli w skali szarości, a ich etykietami są cyfry im odpowiadające. Mamy 55000 przykładów treningowych i 10000 przykładów testowych.\n",
    "Dla wydajności obliczeń, wszystkie dane są umieszczane w dużych macierzach (tablicach).\n",
    "\n",
    "Poniższa komórka pobiera i ładuje zbiór danych do pamięci. Wyjaśnienie wprowadzonych zmiennych poniżej.\n"
   ]
  },
  {
   "cell_type": "code",
   "execution_count": 3,
   "metadata": {
    "colab": {
     "autoexec": {
      "startup": false,
      "wait_interval": 0
     },
     "base_uri": "https://localhost:8080/",
     "height": 85
    },
    "colab_type": "code",
    "executionInfo": {
     "elapsed": 1205,
     "status": "ok",
     "timestamp": 1529058821271,
     "user": {
      "displayName": "Paweł Lonca",
      "photoUrl": "https://lh3.googleusercontent.com/a/default-user=s128",
      "userId": "116249747680176633784"
     },
     "user_tz": -120
    },
    "id": "e7FDEJ_dWXXi",
    "outputId": "6928de73-0b72-43d5-daff-6ca1f1939eb6"
   },
   "outputs": [
    {
     "name": "stdout",
     "output_type": "stream",
     "text": [
      "Extracting mnist/train-images-idx3-ubyte.gz\n",
      "Extracting mnist/train-labels-idx1-ubyte.gz\n",
      "Extracting mnist/t10k-images-idx3-ubyte.gz\n",
      "Extracting mnist/t10k-labels-idx1-ubyte.gz\n"
     ]
    }
   ],
   "source": [
    "# Tu ładujemy nasz dataset - zestaw odręcznie pisanych cyfr od 0 do 9\n",
    "\n",
    "\n",
    "import tflearn.datasets.mnist as mnist\n",
    "X, Y, testX, testY = mnist.load_data(one_hot=True) # ładowanie datasetu (automatycznie ściąga się z internetu)\n",
    "\n",
    "# X,Y to dane treningowe\n",
    "# testX, textY to dane walidacyjne - sprawdzamy nimi jak dobra jest nasza sieć\n",
    "\n",
    "# nasze obrazy mają mieć wymiar 28x28 pikseli - będziemy używać sieci konwolucyjnych, więc konieczna \n",
    "# jest zmiana wymiarów macierzy poleceniem reshape\n",
    "# [samples, x_size, y_size, channels]\n",
    "# samples - liczba próbek \n",
    "# x_size, y_size - wymiary obrazka\n",
    "# channels - liczba kolorów/kanałów - w naszym przypadku 1, bo obrazki są czarno-białe\n",
    "X = X.reshape([-1, 28, 28, 1])\n",
    "testX = testX.reshape([-1, 28, 28, 1])"
   ]
  },
  {
   "cell_type": "markdown",
   "metadata": {
    "colab_type": "text",
    "id": "jlUYUqFU10a5"
   },
   "source": [
    "**X** oraz **testX** to 4-wymiarowe macierze z przykładami odpowiednio treningowymi i testowymi. Wymiary tych macierzy to \\[*liczba przykładów*, *rozmiar x*, *rozmiar y*, *liczba kolorów*]. Różne funkcje oczekują odpowiednich wymiarów macierzy. Nie będzie to na szczęście dla nas istotne poza zrozumieniem napisów, które się pojawiają:\n",
    "\n",
    "`X[4]`  - przykład numer 4 (wymiar [28, 28, 1]) \\\\\n",
    "`X[2:3]`  - przykład numer 2, ale w wymiarze [1, 28, 28, 1] - odpowiednie dla funkcji/metod tflearn \\\\\n",
    "`X[:10]`  - przykłady numer 0...9, w wymiarze [10, 28, 28, 1] \\\\\n",
    "`X[2,:,:,0]` - przykład 2 w w wymiarze [28, 28] odpowiednim dla funkcji do rysowania\n",
    "\n",
    "**Y** oraz **testY** to 2-wymiarowe macierze z etykietami odpowiednio treningowymi i testowymi. Wymiary tych macierzy to \\[*liczba przykładów*, *liczba cyfr*]. Te macierze reprezentują tzw. kodowanie *one-hot* etykiet  - dany przykład przedstawiający cyfrę **i** ma **1** na **i**-tej pozycji, a na pozostałych **0**.\n",
    "\n",
    "`Y[0]` - etykieta przykładu numer 0 (wymiar [10]) \\\\\n",
    "`Y[2:3]` - etykieta przykładu numer 2, ale w wymiarze [1, 10] - odpowiednie dla funkcji/metod tflearn \\\\\n",
    "`Y[:10]` - etykiety dla przykładów numer 0..9 (j.w.)\n",
    "\n",
    "Poniżej przykład użycia na przykładach numer 0 i 1 (powinny reprezentować 7 i 3)."
   ]
  },
  {
   "cell_type": "code",
   "execution_count": 4,
   "metadata": {
    "colab": {
     "autoexec": {
      "startup": false,
      "wait_interval": 0
     },
     "base_uri": "https://localhost:8080/",
     "height": 547
    },
    "colab_type": "code",
    "executionInfo": {
     "elapsed": 723,
     "status": "ok",
     "timestamp": 1529052305265,
     "user": {
      "displayName": "Paweł Lonca",
      "photoUrl": "https://lh3.googleusercontent.com/a/default-user=s128",
      "userId": "116249747680176633784"
     },
     "user_tz": -120
    },
    "id": "xMQYaB8RWXXm",
    "outputId": "e8740bb6-0145-4e53-b4bb-661ca8da3a0e"
   },
   "outputs": [
    {
     "name": "stdout",
     "output_type": "stream",
     "text": [
      "[0. 0. 0. 0. 0. 0. 0. 1. 0. 0.]\n"
     ]
    },
    {
     "data": {
      "image/png": "[encoded data removed]",
      "text/plain": [
       "<Figure size 432x288 with 1 Axes>"
      ]
     },
     "metadata": {
      "needs_background": "light"
     },
     "output_type": "display_data"
    },
    {
     "name": "stdout",
     "output_type": "stream",
     "text": [
      "[0. 0. 0. 1. 0. 0. 0. 0. 0. 0.]\n"
     ]
    },
    {
     "data": {
      "image/png": "[encoded data removed]",
      "text/plain": [
       "<Figure size 432x288 with 1 Axes>"
      ]
     },
     "metadata": {
      "needs_background": "light"
     },
     "output_type": "display_data"
    }
   ],
   "source": [
    "# Kilka przykładów z naszego datasetu\n",
    "print(Y[0]) # etykieta - 1 tam, gdzie poprawna klasa\n",
    "plt.imshow(X[0,:,:,0], cmap='gray') # reprezentacja graficzna obrazka\n",
    "plt.show()\n",
    "\n",
    "print(Y[1])\n",
    "plt.imshow(X[1,:,:,0], cmap='gray')\n",
    "plt.show()"
   ]
  },
  {
   "cell_type": "markdown",
   "metadata": {
    "colab_type": "text",
    "id": "n5SjssyP5ppZ"
   },
   "source": [
    "# Budowa sieci\n",
    "\n",
    "Zdefiniujmy najpierw klasę pomocniczną, która będzie przetrzymywać wyniki obliczeń i przyda nam się do wykresów. Opiszemy ją później."
   ]
  },
  {
   "cell_type": "code",
   "execution_count": 5,
   "metadata": {
    "colab": {
     "autoexec": {
      "startup": false,
      "wait_interval": 0
     }
    },
    "colab_type": "code",
    "id": "7xx9TUguWXXq"
   },
   "outputs": [],
   "source": [
    "# Definiujemy klasę, która będzie przetrzymywać wyniki obliczeń po każdej epoce\n",
    "class Stats(tflearn.callbacks.Callback):\n",
    "    def __init__(self, examples=0):\n",
    "        self.epoch_data = []\n",
    "        self.data_size = examples\n",
    "        self.last_time = 0\n",
    "        self.start_time = 0\n",
    "        \n",
    "        self.min_report_secs = 1.\n",
    "\n",
    "    def on_train_begin(self, training_state):\n",
    "        self.start_time = time.time()\n",
    "      \n",
    "    def on_epoch_end(self, training_state):\n",
    "        metrics = {\n",
    "            'loss': training_state.loss_value, # loss (strata) dla danych treningowych\n",
    "            'acc': training_state.acc_value,   # accuracy (dokładność) dla danych treningowych\n",
    "            'val_loss': training_state.val_loss, # loss dla danych walidacyjnych\n",
    "            'val_acc': training_state.val_acc, # accuracy dla danych walidacyjnych\n",
    "            'epoch': training_state.epoch,\n",
    "            'step': training_state.step,\n",
    "            'iter': training_state.current_iter,\n",
    "            'time': time.time() - self.start_time,\n",
    "        }\n",
    "\n",
    "        self.epoch_data.append(metrics)\n",
    "        \n",
    "    def on_batch_end(self, training_state, snapshot=False):\n",
    "      cur_time = time.time()\n",
    "      if cur_time - self.last_time < self.min_report_secs:\n",
    "        return # nie spamujmy za często\n",
    "      \n",
    "      self.last_time = cur_time\n",
    "      epoch = training_state.epoch\n",
    "      step = training_state.step\n",
    "      iter = training_state.current_iter\n",
    "      print(\"Epoch %d, step (batch no.): %d -- acc: %.2f, loss %.2f -- iter %05d/%05d, training for: %.2fs\" % (\n",
    "          epoch, step, training_state.acc_value, training_state.loss_value,\n",
    "          iter, self.data_size, cur_time-self.start_time))"
   ]
  },
  {
   "cell_type": "markdown",
   "metadata": {
    "colab_type": "text",
    "id": "5jS6wmQ76KYB"
   },
   "source": [
    "\\\\\n",
    "\n",
    "Poniżej jest przykład budowy sieci przy korzystaniu z `tflearn`. W zadaniu będzie trzeba zmieniać odpowiednie parametry.\n",
    "\n",
    "Sieć budujemy kolejnymi warstwami, gdzie funkcja tworząca następną warstwę przyjmuje zmienną reprezentującą poprzednią. Dla wygody wynik przypisujemy na tą samą zmienną, aby móc łatwo dodawać dodatkowe warstwy poprzez wklejenie kodu w odpowiednie miejsce:\n",
    "\n",
    "`network = ...` <- opis warstwy A \\\\\n",
    "`network = conv_2d(network, ...)` <- tworzymy nową warstwę B za warstwą A i przypisujemy na tą samą zmienną (nie potrzebujemy już odwoływać się do warstwy A) \\\\\n",
    "`network = fully_connected(network, ...)` <- warstwa C za warstwą B\n",
    "\n",
    "W tym momencie zmienna `network` reprezentuje sieć składającą się z warstw `A-B-C`.\n",
    "\n",
    "### Uczenie\n",
    "\n",
    "Uczenie sieci przebiega w fazach. Podajemy sieci przykłady kolejno i stosujemy propagację wstęczną. W momencie, gdy przykłady nam się skończą, po prostu zaczynamy od nowa. Każdy taki obrót będziemy nazywali **epoką**.  \\\\\n",
    "Przykładów nie będziemy podawać sieci pojedynczo – podajemy je w porcjach rozmiaru `batch` (*wsad*), co oznacza ile przykładów sieć będzie przetwarzać jednocześnie."
   ]
  },
  {
   "cell_type": "markdown",
   "metadata": {
    "colab_type": "text",
    "id": "k98UrH789LXm"
   },
   "source": [
    "Przydatne nam będą przede wszystkim funkcje:\n",
    "\n",
    "`conv_2d(network, #filtrów, #rozmiar, activation=f.aktywacji, regularizer=\"L2\")` - tworzy nową warstwę konwolucyjną posiadającą `#filtrów` filtrów (neuronów) o rozmiarze `#rozmiar x #rozmiar` oraz z funkcją aktywacji jak podana. Wartości `regularizer` nie należy zmieniać w tym zadaniu.\n",
    "\n",
    "`max_pool_2d(network, #rozmiar)` - podpróbkowanie danych co `#rozmiar` (zmniejsza wymiar obrazka razy `#rozmiar`)\n",
    "\n",
    "`fully_connected(network, #neuronów, activation=f.aktywacji)` - warstwa pełna  z `#neuronów` neuronów i podaną funkcją aktywacji.\n",
    "\n",
    "**W kodzie zaznaczono, który fragment będzie podlegał modyfikacji.**"
   ]
  },
  {
   "cell_type": "code",
   "execution_count": 6,
   "metadata": {
    "colab": {
     "autoexec": {
      "startup": false,
      "wait_interval": 0
     }
    },
    "colab_type": "code",
    "id": "LmB2p2qIWXXt"
   },
   "outputs": [],
   "source": [
    "# Tu definiujemy architekturę naszej sieci\n",
    "\n",
    "# !!! UWAGA - przy każdych nowych obliczeniach należy zresetować graf sieci\n",
    "tf.reset_default_graph()\n",
    "\n",
    "# Wyłączamy warningi z tensorflow\n",
    "tf.logging.set_verbosity(tf.logging.ERROR)\n",
    "\n",
    "\n",
    "# Warstwa wejściowa - musi mieć takie same wymiary jak dane\n",
    "network = input_data(shape=[None, 28, 28, 1], name='input') # None oznacza, że ta \n",
    "# wartość będzie uzupełniona automatyzcnie i jest to liczba próbek we wsadzie (batch)\n",
    "\n",
    "### MODYFIKUJEMY ODTĄD\n",
    "# ---\n",
    "# Pierwsza warstwa konwolucyjna - 32 filtry o rozmiarach 3x3\n",
    "# z funkcją aktywacji (activation=) relu.\n",
    "# Regularizer='L2' oznacza narzucenie ograniczenia na wartości wag (nie istotne tutaj).\n",
    "network = conv_2d(network, 32, 3, activation='relu', regularizer=\"L2\")\n",
    "# max_pool wykonuje podpróbkowanie danych - zmniejsza wymiar obrazka 2-krotnie\n",
    "network = max_pool_2d(network, 2) # teraz obrazki są [14x14]\n",
    "\n",
    "# druga warstwa konwolucyjna - 32 filtry o rozmiarach 3x3 z podpróbkowaniem\n",
    "network = conv_2d(network, 32, 3, activation='relu', regularizer=\"L2\")\n",
    "network = max_pool_2d(network, 2) # teraz obrazki są [7x7]\n",
    "\n",
    "# warstwa pełna - tu już zaczyna się \"normalna\" sieć neuronowa\n",
    "network = fully_connected(network, 128, activation='relu') # 128 neuronów, aktywacja \"relu\", przyjmuje wejście [7x7] do [128] neuronów\n",
    "network = fully_connected(network, 256, activation='relu') # 256 neuronów, aktywacja \"relu\"\n",
    "# ---\n",
    "### DOTĄD\n",
    "\n",
    "# warstwa wyjściowa - używamy aktywacji softmax, żeby dostać prawdopodobieństwa dla każdej klasy (cyfry)\n",
    "network = fully_connected(network, 10, activation='softmax')\n",
    "\n",
    "# tu definiujemy w jaki sposób optymalizować sieć (regression nie oznacza, że robimy regresję)\n",
    "# nie będziemy modyfikować tych argumentów; stosujemy optymizator Adam\n",
    "network = regression(network, optimizer='adam', learning_rate=0.01,\n",
    "                     batch_size=250,\n",
    "                     loss='categorical_crossentropy', name='target')"
   ]
  },
  {
   "cell_type": "markdown",
   "metadata": {
    "colab_type": "text",
    "id": "abynHGxHGoa7"
   },
   "source": [
    "Powyżej zdefiniowaliśmy sieć z warstwą wejściową, dwiema warstwami konwolucyjnymi z 32 filtrami 3x3 i podpróbkowaniem x2 oraz trzema warstwami pełnymi z odpowiednio 128, 256 i 10 neuronami."
   ]
  },
  {
   "cell_type": "markdown",
   "metadata": {
    "colab_type": "text",
    "id": "x35TeBBk_ynp"
   },
   "source": [
    "## Trenowanie sieci\n",
    "\n",
    "Trenowanie sieci wywołujemy jak poniżej (wszystkie 3 linijki będą potrzebne). Trenowanie możemy w dowolnym momencie przerwać klikając na kwadrat zatrzymywania.\n",
    "\n",
    "Metoda uczenia ma następującą sygnaturę:\n",
    "`model.fit({'input': X}, {'target': Y}, n_epoch=#epok,\n",
    "           validation_set=({'input': testX}, {'target': testY}), show_metric=True, callbacks=[scores])`\n",
    "  \n",
    " Uczy podaną wyżej sieć, z danymi treningowymi z `X` i etykietami z `Y` przez `#epok` epok. Wyniki walidacji będą obliczane na zbiorze testowym `testX` z etykietami `testY`. Resztę zostawiamy bez zmian – służy do wypisywania i rejestrowania statystyk."
   ]
  },
  {
   "cell_type": "markdown",
   "metadata": {
    "colab_type": "text",
    "id": "hY8evjU6De6R"
   },
   "source": [
    "Podczas uczenia będziemy zbierali miary tego, jak sieć radzi sobie z naszymi danymi:\n",
    "\n",
    " `loss` - loss (strata) dla danych treningowych \\\\\n",
    "`acc` - accuracy (dokładność) dla danych treningowych \\\\\n",
    "`val_loss` -  loss dla danych walidacyjnych \\\\\n",
    "`val_acc` - accuracy dla danych walidacyjnych \\\\\n",
    "`epoch` - numer *epoki* \\\\\n",
    "`step` - numer wsadu (*batch*) \\\\\n",
    "`iter` - liczba widzianych przykładów \\\\\n",
    "`time` - czas jaki upłynął od początku uczenia \\\\\n",
    "  "
   ]
  },
  {
   "cell_type": "markdown",
   "metadata": {
    "colab_type": "text",
    "id": "5kTeJDOjEs3m"
   },
   "source": [
    "**Uwaga!** kolejne wywołania poniższej komórki będą *douczać* sieć – aby uczyć ją od nowa musimy ponownie wykonać komórkę z definicją sieci."
   ]
  },
  {
   "cell_type": "code",
   "execution_count": null,
   "metadata": {
    "colab": {
     "autoexec": {
      "startup": false,
      "wait_interval": 0
     }
    },
    "colab_type": "code",
    "id": "EAabxPtCWXXy"
   },
   "outputs": [
    {
     "name": "stdout",
     "output_type": "stream",
     "text": [
      "---------------------------------\n",
      "Run id: 7Z8TYV\n",
      "Log directory: /tmp/tflearn_logs/\n",
      "---------------------------------\n",
      "Training samples: 55000\n",
      "Validation samples: 10000\n",
      "--\n",
      "Epoch 1, step (batch no.): 1 -- acc: 0.00, loss 0.00 -- iter 00250/55000, training for: 0.25s\n",
      "Epoch 1, step (batch no.): 14 -- acc: 0.68, loss 0.94 -- iter 03500/55000, training for: 1.27s\n",
      "Epoch 1, step (batch no.): 27 -- acc: 0.90, loss 0.35 -- iter 06750/55000, training for: 2.29s\n",
      "Epoch 1, step (batch no.): 41 -- acc: 0.93, loss 0.22 -- iter 10250/55000, training for: 3.35s\n",
      "Epoch 1, step (batch no.): 54 -- acc: 0.95, loss 0.16 -- iter 13500/55000, training for: 4.38s\n",
      "Epoch 1, step (batch no.): 68 -- acc: 0.96, loss 0.12 -- iter 17000/55000, training for: 5.44s\n",
      "Epoch 1, step (batch no.): 81 -- acc: 0.97, loss 0.10 -- iter 20250/55000, training for: 6.48s\n",
      "Epoch 1, step (batch no.): 95 -- acc: 0.97, loss 0.10 -- iter 23750/55000, training for: 7.55s\n",
      "Epoch 1, step (batch no.): 108 -- acc: 0.96, loss 0.12 -- iter 27000/55000, training for: 8.58s\n",
      "Epoch 1, step (batch no.): 122 -- acc: 0.97, loss 0.08 -- iter 30500/55000, training for: 9.65s\n",
      "Epoch 1, step (batch no.): 135 -- acc: 0.97, loss 0.08 -- iter 33750/55000, training for: 10.68s\n",
      "Epoch 1, step (batch no.): 148 -- acc: 0.98, loss 0.07 -- iter 37000/55000, training for: 11.70s\n",
      "Epoch 1, step (batch no.): 161 -- acc: 0.97, loss 0.08 -- iter 40250/55000, training for: 12.73s\n",
      "Epoch 1, step (batch no.): 174 -- acc: 0.98, loss 0.08 -- iter 43500/55000, training for: 13.73s\n",
      "Epoch 1, step (batch no.): 187 -- acc: 0.98, loss 0.08 -- iter 46750/55000, training for: 14.74s\n",
      "Epoch 1, step (batch no.): 200 -- acc: 0.95, loss 0.52 -- iter 50000/55000, training for: 15.76s\n",
      "Epoch 1, step (batch no.): 213 -- acc: 0.97, loss 0.23 -- iter 53250/55000, training for: 16.80s\n",
      "Training Step: 220  | total loss: \u001b[1m\u001b[32m0.20453\u001b[0m\u001b[0m | time: 18.383s\n",
      "| Adam | epoch: 001 | loss: 0.20453 - acc: 0.9639 | val_loss: 0.08744 - val_acc: 0.9733 -- iter: 55000/55000\n",
      "--\n",
      "Epoch 1, step (batch no.): 220 -- acc: 0.96, loss 0.20 -- iter 55000/55000, training for: 18.39s\n",
      "Epoch 2, step (batch no.): 233 -- acc: 0.97, loss 0.14 -- iter 03250/55000, training for: 19.43s\n",
      "Epoch 2, step (batch no.): 246 -- acc: 0.98, loss 0.09 -- iter 06500/55000, training for: 20.44s\n",
      "Epoch 2, step (batch no.): 259 -- acc: 0.98, loss 0.07 -- iter 09750/55000, training for: 21.45s\n",
      "Epoch 2, step (batch no.): 272 -- acc: 0.98, loss 0.06 -- iter 13000/55000, training for: 22.48s\n",
      "Epoch 2, step (batch no.): 285 -- acc: 0.98, loss 0.07 -- iter 16250/55000, training for: 23.53s\n",
      "Epoch 2, step (batch no.): 298 -- acc: 0.99, loss 0.05 -- iter 19500/55000, training for: 24.55s\n",
      "Epoch 2, step (batch no.): 311 -- acc: 0.99, loss 0.05 -- iter 22750/55000, training for: 25.60s\n",
      "Epoch 2, step (batch no.): 324 -- acc: 0.98, loss 0.05 -- iter 26000/55000, training for: 26.66s\n",
      "Epoch 2, step (batch no.): 337 -- acc: 0.99, loss 0.05 -- iter 29250/55000, training for: 27.68s\n"
     ]
    }
   ],
   "source": [
    "# uruchamiamy trenowanie naszej sieci\n",
    "# n_epoch - liczba epok, czyli przejść przez cały zbiór danych treningowych\n",
    "scores = Stats(examples=len(X))\n",
    "model = tflearn.DNN(network, tensorboard_verbose=0)\n",
    "model.fit({'input': X}, {'target': Y},\n",
    "          n_epoch=20,  # <-- DO ZMIANY\n",
    "          validation_set=({'input': testX}, {'target': testY}), show_metric=True, callbacks=[scores])\n"
   ]
  },
  {
   "cell_type": "markdown",
   "metadata": {
    "colab_type": "text",
    "id": "xB_tk_6YDJ4b"
   },
   "source": [
    "## Korzystanie z sieci\n",
    "\n",
    "Poniźej przykład korzystania z sieci do etykietowania danych które sieć nie widziała."
   ]
  },
  {
   "cell_type": "code",
   "execution_count": 15,
   "metadata": {
    "colab": {
     "autoexec": {
      "startup": false,
      "wait_interval": 0
     },
     "base_uri": "https://localhost:8080/",
     "height": 316
    },
    "colab_type": "code",
    "executionInfo": {
     "elapsed": 663,
     "status": "ok",
     "timestamp": 1529052563866,
     "user": {
      "displayName": "Paweł Lonca",
      "photoUrl": "https://lh3.googleusercontent.com/a/default-user=s128",
      "userId": "116249747680176633784"
     },
     "user_tz": -120
    },
    "id": "NchiBGf5WXX3",
    "outputId": "416a9ecc-d793-40a0-af76-25be02fb7566"
   },
   "outputs": [
    {
     "data": {
      "image/png": "[encoded data removed]",
      "text/plain": [
       "<matplotlib.figure.Figure at 0x7f18ce581a58>"
      ]
     },
     "metadata": {
      "tags": []
     },
     "output_type": "display_data"
    },
    {
     "name": "stdout",
     "output_type": "stream",
     "text": [
      "[[3.8674139e-04 9.9780029e-01 2.0808993e-04 9.8275334e-05 9.9644603e-05\n",
      "  2.5409934e-04 8.5919666e-05 9.4099181e-05 9.6899917e-04 3.9085426e-06]]\n",
      "Prawdopodobnie: 1 na 99.780%\n"
     ]
    }
   ],
   "source": [
    "# Wylosujmy index elementu ze zbioru testowego do sprawdzenia\n",
    "test_index = np.random.randint(len(testX))\n",
    "# Przewidywania modelu na danych walidacyjnych (prawdopodobieństwa/logika rozmyta):\n",
    "predictions = model.predict(testX[test_index:test_index+1])\n",
    "plt.imshow(testX[test_index,:,:,0], cmap='gray')\n",
    "plt.show()\n",
    "print(predictions)\n",
    "print(\"Prawdopodobnie: %s na %.3f%%\" % (predictions.argmax(), predictions.max()*100))"
   ]
  },
  {
   "cell_type": "markdown",
   "metadata": {
    "colab_type": "text",
    "id": "5JszN8lhFpKw"
   },
   "source": [
    "# Programatyczny dostęp do statystyk\n",
    "\n",
    "Statystyki znajdziemy w obiekcie `scores`, który przekazaliśmy podczas uczenia sieci. Jest to lista statystyk po każdej *epoce*. Statystyki reprezentowane są przez słownik z polami jak opisanymi wcześniej."
   ]
  },
  {
   "cell_type": "code",
   "execution_count": 0,
   "metadata": {
    "colab": {
     "autoexec": {
      "startup": false,
      "wait_interval": 0
     }
    },
    "colab_type": "code",
    "id": "71uFUDO5WXX7"
   },
   "outputs": [],
   "source": [
    "# wyświetlenie danych\n",
    "scores.epoch_data"
   ]
  },
  {
   "cell_type": "markdown",
   "metadata": {
    "colab_type": "text",
    "id": "VwhTLw0PWXX_"
   },
   "source": [
    "# POLECENIA\n",
    "## Do zaliczenia tego zadania można zrobić podzadania A-C lub zadanie alternatywne."
   ]
  },
  {
   "cell_type": "markdown",
   "metadata": {
    "colab_type": "text",
    "id": "gCZmKjv9WXYA"
   },
   "source": [
    "# Uwagi:\n",
    "\n",
    "### Przy każdych nowych obliczeniach należy zresetować graf sieci.\n",
    "### Nie należy zmieniać linijki z optymizatorem przy rozwiązywaniu zadań.\n",
    "### Niektóre rezultaty mogą być nieintuicyjne."
   ]
  },
  {
   "cell_type": "markdown",
   "metadata": {
    "colab_type": "text",
    "id": "8q5fPv0hWXYB"
   },
   "source": [
    "# Zadanie A: dawne ograniczenia\n",
    "\n",
    "Narysuj wykres zależności accuracy dla danych **walidacyjnych** od liczby epok (max 10 epok)\n",
    "dla sieci w dwóch wariantach:\n",
    "* 1 warstwa konwolucyjna: 32 filtry 3x3 + 2 warstwy pełne (jak w przykładzie: 128,256,10)\n"
   ]
  },
  {
   "cell_type": "code",
   "execution_count": 0,
   "metadata": {
    "colab": {
     "autoexec": {
      "startup": false,
      "wait_interval": 0
     }
    },
    "colab_type": "code",
    "id": "uXyceq4E21Kn"
   },
   "outputs": [],
   "source": [
    "liczba_epok=10"
   ]
  },
  {
   "cell_type": "code",
   "execution_count": 0,
   "metadata": {
    "colab": {
     "autoexec": {
      "startup": false,
      "wait_interval": 0
     }
    },
    "colab_type": "code",
    "id": "-bgL4F7Lpg_K"
   },
   "outputs": [],
   "source": [
    "tf.reset_default_graph()\n",
    "\n",
    "tf.logging.set_verbosity(tf.logging.ERROR)\n",
    "### Warstwy odtąd\n",
    "network = input_data(shape=[None, 28, 28, 1], name='input')\n",
    "\n",
    "network = conv_2d(network, 32, 3, activation='relu', regularizer=\"L2\")\n",
    "\n",
    "network = fully_connected(network, 128, activation='relu') \n",
    "network = fully_connected(network, 256, activation='relu')\n",
    "\n",
    "network = fully_connected(network, 10, activation='softmax')\n",
    "### Warstwy dotąd\n",
    "\n",
    "network = regression(network, optimizer='adam', learning_rate=0.01,\n",
    "                     batch_size=250,\n",
    "                     loss='categorical_crossentropy', name='target')"
   ]
  },
  {
   "cell_type": "code",
   "execution_count": 0,
   "metadata": {
    "colab": {
     "autoexec": {
      "startup": false,
      "wait_interval": 0
     }
    },
    "colab_type": "code",
    "id": "RGtkdYXYqp4m"
   },
   "outputs": [],
   "source": [
    "### Proces trenowania\n",
    "liczba_epok = 10\n",
    "scores = Stats(examples=len(X))\n",
    "model = tflearn.DNN(network, tensorboard_verbose=0)\n",
    "model.fit({'input': X}, {'target': Y},\n",
    "          n_epoch=liczba_epok, \n",
    "          validation_set=({'input': testX}, {'target': testY}), show_metric=True, callbacks=[scores])"
   ]
  },
  {
   "cell_type": "code",
   "execution_count": 58,
   "metadata": {
    "colab": {
     "autoexec": {
      "startup": false,
      "wait_interval": 0
     },
     "base_uri": "https://localhost:8080/",
     "height": 508
    },
    "colab_type": "code",
    "executionInfo": {
     "elapsed": 1132,
     "status": "error",
     "timestamp": 1529056067486,
     "user": {
      "displayName": "Paweł Lonca",
      "photoUrl": "https://lh3.googleusercontent.com/a/default-user=s128",
      "userId": "116249747680176633784"
     },
     "user_tz": -120
    },
    "id": "JXMtkDSdt4_m",
    "outputId": "6348e1a6-e6a5-42a9-f47d-2981df511aaf"
   },
   "outputs": [
    {
     "data": {
      "image/png": "[encoded data removed]",
      "text/plain": [
       "<matplotlib.figure.Figure at 0x7f18caec1710>"
      ]
     },
     "metadata": {
      "tags": []
     },
     "output_type": "display_data"
    },
    {
     "ename": "AttributeError",
     "evalue": "ignored",
     "output_type": "error",
     "traceback": [
      "\u001b[0;31m---------------------------------------------------------------------------\u001b[0m",
      "\u001b[0;31mAttributeError\u001b[0m                            Traceback (most recent call last)",
      "\u001b[0;32m<ipython-input-58-edcccde0e554>\u001b[0m in \u001b[0;36m<module>\u001b[0;34m()\u001b[0m\n\u001b[1;32m     10\u001b[0m \u001b[0mplt\u001b[0m\u001b[0;34m.\u001b[0m\u001b[0msavefig\u001b[0m\u001b[0;34m(\u001b[0m\u001b[0;34m\"D:\\\\Backup\\\\Do_aktualizowania\\\\Kognitywistyka\\\\Semestr_4\\\\SI\\\\PD_3\\\\Wynikowe\\\\A\\\\val_acc_1_conv.png\"\u001b[0m\u001b[0;34m)\u001b[0m\u001b[0;34m\u001b[0m\u001b[0m\n\u001b[1;32m     11\u001b[0m \u001b[0mplt\u001b[0m\u001b[0;34m.\u001b[0m\u001b[0mshow\u001b[0m\u001b[0;34m(\u001b[0m\u001b[0;34m)\u001b[0m\u001b[0;34m\u001b[0m\u001b[0m\n\u001b[0;32m---> 12\u001b[0;31m \u001b[0mplt\u001b[0m\u001b[0;34m.\u001b[0m\u001b[0mclosefig\u001b[0m\u001b[0;34m(\u001b[0m\u001b[0;34m)\u001b[0m\u001b[0;34m\u001b[0m\u001b[0m\n\u001b[0m\u001b[1;32m     13\u001b[0m \u001b[0;34m\u001b[0m\u001b[0m\n\u001b[1;32m     14\u001b[0m \u001b[0;34m\u001b[0m\u001b[0m\n",
      "\u001b[0;31mAttributeError\u001b[0m: module 'matplotlib.pyplot' has no attribute 'closefig'"
     ]
    }
   ],
   "source": [
    "### Wykres val_acc jako funkcja epoch\n",
    "val_acc = [scores.epoch_data[i]['val_acc'] for i in range(len(scores.epoch_data))]\n",
    "\n",
    "epochs = [scores.epoch_data[i]['epoch'] for i in range(len(scores.epoch_data))]\n",
    "\n",
    "plt.plot(epochs, val_acc, 'b')\n",
    "plt.title('Validation accuracy (1 warstwa konw.)')\n",
    "plt.xlabel('Epochs')\n",
    "plt.ylabel('Validation accuracy')\n",
    "plt.xticks(np.arange(1, liczba_epok+1, step=1))\n",
    "plt.show()"
   ]
  },
  {
   "cell_type": "markdown",
   "metadata": {
    "colab_type": "text",
    "id": "F6NxRZY9pn98"
   },
   "source": [
    "* j.w. ale dla 3 i 5 warstw konwolucyjnych (podpróbkowanie wykonuj tylko po 2. i 4. warstwie konwolucyjnej)"
   ]
  },
  {
   "cell_type": "markdown",
   "metadata": {
    "colab_type": "text",
    "id": "fnF-7Z2VumTm"
   },
   "source": [
    ">> 3 warstwy konwolucyjne, po drugiej występuje podpróbkowanie"
   ]
  },
  {
   "cell_type": "code",
   "execution_count": 0,
   "metadata": {
    "colab": {
     "autoexec": {
      "startup": false,
      "wait_interval": 0
     }
    },
    "colab_type": "code",
    "id": "EPTp8Wj5ueYC"
   },
   "outputs": [],
   "source": [
    "tf.reset_default_graph()\n",
    "tf.logging.set_verbosity(tf.logging.ERROR)\n",
    "\n",
    "### Warstwy odtąd\n",
    "network = input_data(shape=[None, 28, 28, 1], name='input')\n",
    "\n",
    "network = conv_2d(network, 32, 3, activation='relu', regularizer=\"L2\")\n",
    "network = conv_2d(network, 32, 3, activation='relu', regularizer=\"L2\")\n",
    "network = max_pool_2d(network, 2)\n",
    "network = conv_2d(network, 32, 3, activation='relu', regularizer=\"L2\")\n",
    "\n",
    "network = fully_connected(network, 128, activation='relu') \n",
    "network = fully_connected(network, 256, activation='relu')\n",
    "\n",
    "network = fully_connected(network, 10, activation='softmax')\n",
    "### Warstwy dotąd\n",
    "\n",
    "network = regression(network, optimizer='adam', learning_rate=0.01,\n",
    "                     batch_size=250,\n",
    "                     loss='categorical_crossentropy', name='target')"
   ]
  },
  {
   "cell_type": "code",
   "execution_count": 0,
   "metadata": {
    "colab": {
     "autoexec": {
      "startup": false,
      "wait_interval": 0
     }
    },
    "colab_type": "code",
    "id": "v4uI54l02pdu"
   },
   "outputs": [],
   "source": [
    "### Proces trenowania\n",
    "scores = Stats(examples=len(X))\n",
    "model = tflearn.DNN(network, tensorboard_verbose=0)\n",
    "model.fit({'input': X}, {'target': Y},\n",
    "          n_epoch=liczba_epok, \n",
    "          validation_set=({'input': testX}, {'target': testY}), show_metric=True, callbacks=[scores])"
   ]
  },
  {
   "cell_type": "code",
   "execution_count": 66,
   "metadata": {
    "colab": {
     "autoexec": {
      "startup": false,
      "wait_interval": 0
     },
     "base_uri": "https://localhost:8080/",
     "height": 311
    },
    "colab_type": "code",
    "executionInfo": {
     "elapsed": 3936,
     "status": "ok",
     "timestamp": 1529056365653,
     "user": {
      "displayName": "Paweł Lonca",
      "photoUrl": "https://lh3.googleusercontent.com/a/default-user=s128",
      "userId": "116249747680176633784"
     },
     "user_tz": -120
    },
    "id": "_NlRbHdVwFlg",
    "outputId": "26cabe81-1a4c-4710-9f22-84716802f7ec"
   },
   "outputs": [
    {
     "name": "stderr",
     "output_type": "stream",
     "text": [
      "No handles with labels found to put in legend.\n"
     ]
    },
    {
     "data": {
      "image/png": "[encoded data removed]",
      "text/plain": [
       "<matplotlib.figure.Figure at 0x7f18cad7fc18>"
      ]
     },
     "metadata": {
      "tags": []
     },
     "output_type": "display_data"
    }
   ],
   "source": [
    "### Wykres val_acc jako funkcja epoch\n",
    "val_acc = [scores.epoch_data[i]['val_acc'] for i in range(len(scores.epoch_data))]\n",
    "\n",
    "epochs = [scores.epoch_data[i]['epoch'] for i in range(len(scores.epoch_data))]\n",
    "\n",
    "plt.plot(epochs, val_acc, 'b')\n",
    "plt.title('Validation accuracy (3 warstwa konw. + podpróbkowanie)')\n",
    "plt.xlabel('Epochs')\n",
    "plt.ylabel('Validation accuracy')\n",
    "plt.xticks(np.arange(1, liczba_epok+1, step=1))\n",
    "plt.show()\n",
    "\n"
   ]
  },
  {
   "cell_type": "markdown",
   "metadata": {
    "colab_type": "text",
    "id": "2hPJnGL83PcQ"
   },
   "source": [
    ">> 5 warstw konwolucyjnych + podpróbkowanie"
   ]
  },
  {
   "cell_type": "code",
   "execution_count": 0,
   "metadata": {
    "colab": {
     "autoexec": {
      "startup": false,
      "wait_interval": 0
     }
    },
    "colab_type": "code",
    "id": "pyZbegYt3S46"
   },
   "outputs": [],
   "source": [
    "tf.reset_default_graph()\n",
    "tf.logging.set_verbosity(tf.logging.ERROR)\n",
    "\n",
    "### Warstwy odtąd\n",
    "network = input_data(shape=[None, 28, 28, 1], name='input')\n",
    "\n",
    "network = conv_2d(network, 32, 3, activation='relu', regularizer=\"L2\")\n",
    "network = conv_2d(network, 32, 3, activation='relu', regularizer=\"L2\")\n",
    "network = conv_2d(network, 32, 3, activation='relu', regularizer=\"L2\")\n",
    "network = conv_2d(network, 32, 3, activation='relu', regularizer=\"L2\")\n",
    "network = max_pool_2d(network, 2)\n",
    "network = conv_2d(network, 32, 3, activation='relu', regularizer=\"L2\")\n",
    "\n",
    "network = fully_connected(network, 128, activation='relu') \n",
    "network = fully_connected(network, 256, activation='relu')\n",
    "\n",
    "network = fully_connected(network, 10, activation='softmax')\n",
    "### Warstwy dotąd\n",
    "\n",
    "network = regression(network, optimizer='adam', learning_rate=0.01,\n",
    "                     batch_size=250,\n",
    "                     loss='categorical_crossentropy', name='target')"
   ]
  },
  {
   "cell_type": "code",
   "execution_count": 0,
   "metadata": {
    "colab": {
     "autoexec": {
      "startup": false,
      "wait_interval": 0
     }
    },
    "colab_type": "code",
    "id": "Mvziy1ke3W2P"
   },
   "outputs": [],
   "source": [
    "### Proces trenowania\n",
    "scores = Stats(examples=len(X))\n",
    "model = tflearn.DNN(network, tensorboard_verbose=0)\n",
    "model.fit({'input': X}, {'target': Y},\n",
    "          n_epoch=liczba_epok, \n",
    "          validation_set=({'input': testX}, {'target': testY}), show_metric=True, callbacks=[scores])"
   ]
  },
  {
   "cell_type": "code",
   "execution_count": 70,
   "metadata": {
    "colab": {
     "autoexec": {
      "startup": false,
      "wait_interval": 0
     },
     "base_uri": "https://localhost:8080/",
     "height": 311
    },
    "colab_type": "code",
    "executionInfo": {
     "elapsed": 1089,
     "status": "ok",
     "timestamp": 1529056576062,
     "user": {
      "displayName": "Paweł Lonca",
      "photoUrl": "https://lh3.googleusercontent.com/a/default-user=s128",
      "userId": "116249747680176633784"
     },
     "user_tz": -120
    },
    "id": "Dplw7_xW3ahu",
    "outputId": "b8516f43-16f3-4399-db7d-c0661f599fb4"
   },
   "outputs": [
    {
     "name": "stderr",
     "output_type": "stream",
     "text": [
      "No handles with labels found to put in legend.\n"
     ]
    },
    {
     "data": {
      "image/png": "[encoded data removed]",
      "text/plain": [
       "<matplotlib.figure.Figure at 0x7f1932786ac8>"
      ]
     },
     "metadata": {
      "tags": []
     },
     "output_type": "display_data"
    }
   ],
   "source": [
    "### Wykres val_acc jako funkcja epoch\n",
    "val_acc = [scores.epoch_data[i]['val_acc'] for i in range(len(scores.epoch_data))]\n",
    "\n",
    "epochs = [scores.epoch_data[i]['epoch'] for i in range(len(scores.epoch_data))]\n",
    "\n",
    "plt.plot(epochs, val_acc, 'b')\n",
    "plt.title('Validation accuracy (5 warstwa konw. + podpróbkowanie)')\n",
    "plt.xlabel('Epochs')\n",
    "plt.ylabel('Validation accuracy')\n",
    "plt.xticks(np.arange(1, liczba_epok+1, step=1))\n",
    "plt.show()"
   ]
  },
  {
   "cell_type": "markdown",
   "metadata": {
    "colab_type": "text",
    "id": "2-gTz-gIWXYC"
   },
   "source": [
    "# Zadanie B - funkcje aktywacji\n",
    "\n",
    "Narysuj wykres zależności accuracy dla danych **walidacyjnych** od liczby epok, dla sieci konwolucyjnej: \n",
    "32-3x3, podpróbkowanie x2, 32-3x3, podpróbkowanie x2, 32-3x3, z wartstwami pełnymi: 128, 256, 10\n",
    "\n",
    "(przez 32-3x3 rozumiemy warstwę konwolucyjną z 32 filtrami rozmiaru 3x3)\n",
    "\n",
    "w zależności od funkcji aktywacji (ustawianej w parametrze `activation=`):\n",
    "* `'relu'`\n",
    "* `'sigmoid'`\n",
    "* `'elu'`\n",
    "\n",
    "** Uwaga! ** Nie należy zmieniać funkcji aktywacji `softmax` w ostatniej warstwie."
   ]
  },
  {
   "cell_type": "code",
   "execution_count": 75,
   "metadata": {
    "colab": {
     "autoexec": {
      "startup": false,
      "wait_interval": 0
     },
     "base_uri": "https://localhost:8080/",
     "height": 4505
    },
    "colab_type": "code",
    "executionInfo": {
     "elapsed": 149683,
     "status": "ok",
     "timestamp": 1529058991280,
     "user": {
      "displayName": "Paweł Lonca",
      "photoUrl": "https://lh3.googleusercontent.com/a/default-user=s128",
      "userId": "116249747680176633784"
     },
     "user_tz": -120
    },
    "id": "XyMRq8_68Zhx",
    "outputId": "6db5f322-2147-4da2-b144-a24309d7c607"
   },
   "outputs": [
    {
     "name": "stdout",
     "output_type": "stream",
     "text": [
      "---------------------------------\n",
      "Run id: P8E81P\n",
      "Log directory: /tmp/tflearn_logs/\n",
      "---------------------------------\n",
      "Training samples: 55000\n",
      "Validation samples: 10000\n",
      "--\n",
      "Epoch 1, step (batch no.): 1 -- acc: 0.00, loss 0.00 -- iter 00250/55000, training for: 0.23s\n",
      "Epoch 1, step (batch no.): 66 -- acc: 0.96, loss 0.14 -- iter 16500/55000, training for: 1.24s\n",
      "Epoch 1, step (batch no.): 135 -- acc: 0.97, loss 0.09 -- iter 33750/55000, training for: 2.25s\n",
      "Epoch 1, step (batch no.): 203 -- acc: 0.98, loss 0.07 -- iter 50750/55000, training for: 3.25s\n",
      "Training Step: 220  | total loss: \u001b[1m\u001b[32m0.07710\u001b[0m\u001b[0m | time: 4.543s\n",
      "| Adam | epoch: 001 | loss: 0.07710 - acc: 0.9778 | val_loss: 0.09034 - val_acc: 0.9739 -- iter: 55000/55000\n",
      "--\n",
      "Epoch 1, step (batch no.): 220 -- acc: 0.98, loss 0.08 -- iter 55000/55000, training for: 4.55s\n",
      "Epoch 2, step (batch no.): 289 -- acc: 0.98, loss 0.07 -- iter 17250/55000, training for: 5.55s\n",
      "Epoch 2, step (batch no.): 358 -- acc: 0.98, loss 0.07 -- iter 34500/55000, training for: 6.56s\n",
      "Epoch 2, step (batch no.): 426 -- acc: 0.98, loss 0.07 -- iter 51500/55000, training for: 7.57s\n",
      "Training Step: 440  | total loss: \u001b[1m\u001b[32m0.04355\u001b[0m\u001b[0m | time: 4.247s\n",
      "| Adam | epoch: 002 | loss: 0.04355 - acc: 0.9850 | val_loss: 0.04945 - val_acc: 0.9840 -- iter: 55000/55000\n",
      "--\n",
      "Epoch 2, step (batch no.): 440 -- acc: 0.99, loss 0.04 -- iter 55000/55000, training for: 8.81s\n",
      "Epoch 3, step (batch no.): 509 -- acc: 0.98, loss 0.07 -- iter 17250/55000, training for: 9.81s\n",
      "Epoch 3, step (batch no.): 577 -- acc: 0.99, loss 0.05 -- iter 34250/55000, training for: 10.82s\n",
      "Epoch 3, step (batch no.): 645 -- acc: 0.98, loss 0.05 -- iter 51250/55000, training for: 11.82s\n",
      "Training Step: 660  | total loss: \u001b[1m\u001b[32m0.03819\u001b[0m\u001b[0m | time: 4.247s\n",
      "| Adam | epoch: 003 | loss: 0.03819 - acc: 0.9864 | val_loss: 0.05088 - val_acc: 0.9850 -- iter: 55000/55000\n",
      "--\n",
      "Epoch 3, step (batch no.): 660 -- acc: 0.99, loss 0.04 -- iter 55000/55000, training for: 13.06s\n",
      "Epoch 4, step (batch no.): 728 -- acc: 0.98, loss 0.06 -- iter 17000/55000, training for: 14.06s\n",
      "Epoch 4, step (batch no.): 796 -- acc: 0.99, loss 0.04 -- iter 34000/55000, training for: 15.06s\n",
      "Epoch 4, step (batch no.): 865 -- acc: 0.99, loss 0.05 -- iter 51250/55000, training for: 16.07s\n",
      "Training Step: 880  | total loss: \u001b[1m\u001b[32m0.05309\u001b[0m\u001b[0m | time: 4.247s\n",
      "| Adam | epoch: 004 | loss: 0.05309 - acc: 0.9834 | val_loss: 0.05381 - val_acc: 0.9846 -- iter: 55000/55000\n",
      "--\n",
      "Epoch 4, step (batch no.): 880 -- acc: 0.98, loss 0.05 -- iter 55000/55000, training for: 17.31s\n",
      "Epoch 5, step (batch no.): 949 -- acc: 0.99, loss 0.05 -- iter 17250/55000, training for: 18.31s\n",
      "Epoch 5, step (batch no.): 1019 -- acc: 0.98, loss 0.05 -- iter 34750/55000, training for: 19.33s\n",
      "Epoch 5, step (batch no.): 1088 -- acc: 0.99, loss 0.04 -- iter 52000/55000, training for: 20.33s\n",
      "Training Step: 1100  | total loss: \u001b[1m\u001b[32m0.03898\u001b[0m\u001b[0m | time: 4.216s\n",
      "| Adam | epoch: 005 | loss: 0.03898 - acc: 0.9883 | val_loss: 0.05664 - val_acc: 0.9856 -- iter: 55000/55000\n",
      "--\n",
      "Epoch 5, step (batch no.): 1100 -- acc: 0.99, loss 0.04 -- iter 55000/55000, training for: 21.53s\n",
      "Epoch 6, step (batch no.): 1169 -- acc: 0.99, loss 0.04 -- iter 17250/55000, training for: 22.54s\n",
      "Epoch 6, step (batch no.): 1238 -- acc: 0.98, loss 0.05 -- iter 34500/55000, training for: 23.54s\n",
      "Epoch 6, step (batch no.): 1307 -- acc: 0.96, loss 0.47 -- iter 51750/55000, training for: 24.55s\n",
      "Training Step: 1320  | total loss: \u001b[1m\u001b[32m0.17162\u001b[0m\u001b[0m | time: 4.219s\n",
      "| Adam | epoch: 006 | loss: 0.17162 - acc: 0.9787 | val_loss: 0.09404 - val_acc: 0.9790 -- iter: 55000/55000\n",
      "--\n",
      "Epoch 6, step (batch no.): 1320 -- acc: 0.98, loss 0.17 -- iter 55000/55000, training for: 25.76s\n",
      "Epoch 7, step (batch no.): 1389 -- acc: 0.99, loss 0.04 -- iter 17250/55000, training for: 26.76s\n",
      "Epoch 7, step (batch no.): 1458 -- acc: 0.99, loss 0.04 -- iter 34500/55000, training for: 27.76s\n",
      "Epoch 7, step (batch no.): 1527 -- acc: 0.96, loss 0.56 -- iter 51750/55000, training for: 28.77s\n",
      "Training Step: 1540  | total loss: \u001b[1m\u001b[32m0.17644\u001b[0m\u001b[0m | time: 4.221s\n",
      "| Adam | epoch: 007 | loss: 0.17644 - acc: 0.9802 | val_loss: 0.07031 - val_acc: 0.9839 -- iter: 55000/55000\n",
      "--\n",
      "Epoch 7, step (batch no.): 1540 -- acc: 0.98, loss 0.18 -- iter 55000/55000, training for: 29.98s\n",
      "Epoch 8, step (batch no.): 1609 -- acc: 0.99, loss 0.04 -- iter 17250/55000, training for: 30.99s\n",
      "Epoch 8, step (batch no.): 1678 -- acc: 0.99, loss 0.04 -- iter 34500/55000, training for: 32.00s\n",
      "Epoch 8, step (batch no.): 1747 -- acc: 0.99, loss 0.03 -- iter 51750/55000, training for: 33.01s\n",
      "Training Step: 1760  | total loss: \u001b[1m\u001b[32m0.03458\u001b[0m\u001b[0m | time: 4.240s\n",
      "| Adam | epoch: 008 | loss: 0.03458 - acc: 0.9904 | val_loss: 0.04288 - val_acc: 0.9879 -- iter: 55000/55000\n",
      "--\n",
      "Epoch 8, step (batch no.): 1760 -- acc: 0.99, loss 0.03 -- iter 55000/55000, training for: 34.23s\n",
      "Epoch 9, step (batch no.): 1830 -- acc: 0.99, loss 0.03 -- iter 17500/55000, training for: 35.24s\n",
      "Epoch 9, step (batch no.): 1899 -- acc: 0.98, loss 0.04 -- iter 34750/55000, training for: 36.25s\n",
      "Epoch 9, step (batch no.): 1968 -- acc: 0.99, loss 0.04 -- iter 52000/55000, training for: 37.26s\n",
      "Training Step: 1980  | total loss: \u001b[1m\u001b[32m0.02874\u001b[0m\u001b[0m | time: 4.214s\n",
      "| Adam | epoch: 009 | loss: 0.02874 - acc: 0.9917 | val_loss: 0.04035 - val_acc: 0.9869 -- iter: 55000/55000\n",
      "--\n",
      "Epoch 9, step (batch no.): 1980 -- acc: 0.99, loss 0.03 -- iter 55000/55000, training for: 38.45s\n",
      "Epoch 10, step (batch no.): 2049 -- acc: 0.99, loss 0.03 -- iter 17250/55000, training for: 39.45s\n",
      "Epoch 10, step (batch no.): 2118 -- acc: 0.99, loss 0.04 -- iter 34500/55000, training for: 40.45s\n",
      "Epoch 10, step (batch no.): 2186 -- acc: 0.94, loss 0.76 -- iter 51500/55000, training for: 41.47s\n",
      "Training Step: 2200  | total loss: \u001b[1m\u001b[32m0.20259\u001b[0m\u001b[0m | time: 4.239s\n",
      "| Adam | epoch: 010 | loss: 0.20259 - acc: 0.9800 | val_loss: 0.07112 - val_acc: 0.9837 -- iter: 55000/55000\n",
      "--\n",
      "Epoch 10, step (batch no.): 2200 -- acc: 0.98, loss 0.20 -- iter 55000/55000, training for: 42.69s\n",
      "---------------------------------\n",
      "Run id: AO8UI8\n",
      "Log directory: /tmp/tflearn_logs/\n",
      "---------------------------------\n",
      "Training samples: 55000\n",
      "Validation samples: 10000\n",
      "--\n",
      "Epoch 1, step (batch no.): 1 -- acc: 0.00, loss 0.00 -- iter 00250/55000, training for: 0.19s\n",
      "Epoch 1, step (batch no.): 70 -- acc: 0.12, loss 2.30 -- iter 17500/55000, training for: 1.20s\n",
      "Epoch 1, step (batch no.): 139 -- acc: 0.11, loss 2.30 -- iter 34750/55000, training for: 2.20s\n",
      "Epoch 1, step (batch no.): 208 -- acc: 0.11, loss 2.30 -- iter 52000/55000, training for: 3.22s\n",
      "Training Step: 220  | total loss: \u001b[1m\u001b[32m2.30267\u001b[0m\u001b[0m | time: 4.427s\n",
      "| Adam | epoch: 001 | loss: 2.30267 - acc: 0.1075 | val_loss: 2.30108 - val_acc: 0.1135 -- iter: 55000/55000\n",
      "--\n",
      "Epoch 1, step (batch no.): 220 -- acc: 0.11, loss 2.30 -- iter 55000/55000, training for: 4.43s\n",
      "Epoch 2, step (batch no.): 289 -- acc: 0.11, loss 2.30 -- iter 17250/55000, training for: 5.44s\n",
      "Epoch 2, step (batch no.): 359 -- acc: 0.12, loss 2.30 -- iter 34750/55000, training for: 6.45s\n",
      "Epoch 2, step (batch no.): 428 -- acc: 0.12, loss 2.30 -- iter 52000/55000, training for: 7.46s\n",
      "Training Step: 440  | total loss: \u001b[1m\u001b[32m2.30219\u001b[0m\u001b[0m | time: 4.211s\n",
      "| Adam | epoch: 002 | loss: 2.30219 - acc: 0.1090 | val_loss: 2.30115 - val_acc: 0.1135 -- iter: 55000/55000\n",
      "--\n",
      "Epoch 2, step (batch no.): 440 -- acc: 0.11, loss 2.30 -- iter 55000/55000, training for: 8.65s\n",
      "Epoch 3, step (batch no.): 509 -- acc: 0.10, loss 2.30 -- iter 17250/55000, training for: 9.65s\n",
      "Epoch 3, step (batch no.): 579 -- acc: 0.11, loss 2.30 -- iter 34750/55000, training for: 10.67s\n",
      "Epoch 3, step (batch no.): 648 -- acc: 0.11, loss 2.30 -- iter 52000/55000, training for: 11.68s\n",
      "Training Step: 660  | total loss: \u001b[1m\u001b[32m2.30110\u001b[0m\u001b[0m | time: 4.207s\n",
      "| Adam | epoch: 003 | loss: 2.30110 - acc: 0.1134 | val_loss: 2.30136 - val_acc: 0.1135 -- iter: 55000/55000\n",
      "--\n",
      "Epoch 3, step (batch no.): 660 -- acc: 0.11, loss 2.30 -- iter 55000/55000, training for: 12.86s\n",
      "Epoch 4, step (batch no.): 727 -- acc: 0.11, loss 2.30 -- iter 16750/55000, training for: 13.86s\n",
      "Epoch 4, step (batch no.): 797 -- acc: 0.11, loss 2.30 -- iter 34250/55000, training for: 14.87s\n",
      "Epoch 4, step (batch no.): 866 -- acc: 0.11, loss 2.30 -- iter 51500/55000, training for: 15.87s\n",
      "Training Step: 880  | total loss: \u001b[1m\u001b[32m2.30088\u001b[0m\u001b[0m | time: 4.240s\n",
      "| Adam | epoch: 004 | loss: 2.30088 - acc: 0.1168 | val_loss: 2.30118 - val_acc: 0.1135 -- iter: 55000/55000\n",
      "--\n",
      "Epoch 4, step (batch no.): 880 -- acc: 0.12, loss 2.30 -- iter 55000/55000, training for: 17.11s\n",
      "Epoch 5, step (batch no.): 950 -- acc: 0.11, loss 2.30 -- iter 17500/55000, training for: 18.12s\n",
      "Epoch 5, step (batch no.): 1020 -- acc: 0.11, loss 2.30 -- iter 35000/55000, training for: 19.13s\n",
      "Epoch 5, step (batch no.): 1090 -- acc: 0.11, loss 2.30 -- iter 52500/55000, training for: 20.14s\n",
      "Training Step: 1100  | total loss: \u001b[1m\u001b[32m2.30249\u001b[0m\u001b[0m | time: 4.189s\n",
      "| Adam | epoch: 005 | loss: 2.30249 - acc: 0.1031 | val_loss: 2.30165 - val_acc: 0.1010 -- iter: 55000/55000\n",
      "--\n",
      "Epoch 5, step (batch no.): 1100 -- acc: 0.10, loss 2.30 -- iter 55000/55000, training for: 21.30s\n",
      "Epoch 6, step (batch no.): 1168 -- acc: 0.11, loss 2.30 -- iter 17000/55000, training for: 22.31s\n",
      "Epoch 6, step (batch no.): 1236 -- acc: 0.11, loss 2.30 -- iter 34000/55000, training for: 23.32s\n",
      "Epoch 6, step (batch no.): 1305 -- acc: 0.12, loss 2.30 -- iter 51250/55000, training for: 24.32s\n"
     ]
    },
    {
     "name": "stdout",
     "output_type": "stream",
     "text": [
      "Training Step: 1320  | total loss: \u001b[1m\u001b[32m2.30039\u001b[0m\u001b[0m | time: 4.251s\n",
      "| Adam | epoch: 006 | loss: 2.30039 - acc: 0.1155 | val_loss: 2.30201 - val_acc: 0.1135 -- iter: 55000/55000\n",
      "--\n",
      "Epoch 6, step (batch no.): 1320 -- acc: 0.12, loss 2.30 -- iter 55000/55000, training for: 25.56s\n",
      "Epoch 7, step (batch no.): 1389 -- acc: 0.11, loss 2.30 -- iter 17250/55000, training for: 26.57s\n",
      "Epoch 7, step (batch no.): 1458 -- acc: 0.11, loss 2.30 -- iter 34500/55000, training for: 27.57s\n",
      "Epoch 7, step (batch no.): 1527 -- acc: 0.11, loss 2.30 -- iter 51750/55000, training for: 28.58s\n",
      "Training Step: 1540  | total loss: \u001b[1m\u001b[32m2.30267\u001b[0m\u001b[0m | time: 4.226s\n",
      "| Adam | epoch: 007 | loss: 2.30267 - acc: 0.1043 | val_loss: 2.30137 - val_acc: 0.1135 -- iter: 55000/55000\n",
      "--\n",
      "Epoch 7, step (batch no.): 1540 -- acc: 0.10, loss 2.30 -- iter 55000/55000, training for: 29.79s\n",
      "Epoch 8, step (batch no.): 1609 -- acc: 0.11, loss 2.30 -- iter 17250/55000, training for: 30.80s\n",
      "Epoch 8, step (batch no.): 1678 -- acc: 0.11, loss 2.30 -- iter 34500/55000, training for: 31.81s\n",
      "Epoch 8, step (batch no.): 1748 -- acc: 0.12, loss 2.30 -- iter 52000/55000, training for: 32.82s\n",
      "Training Step: 1760  | total loss: \u001b[1m\u001b[32m2.30223\u001b[0m\u001b[0m | time: 4.215s\n",
      "| Adam | epoch: 008 | loss: 2.30223 - acc: 0.1117 | val_loss: 2.30133 - val_acc: 0.1135 -- iter: 55000/55000\n",
      "--\n",
      "Epoch 8, step (batch no.): 1760 -- acc: 0.11, loss 2.30 -- iter 55000/55000, training for: 34.01s\n",
      "Epoch 9, step (batch no.): 1828 -- acc: 0.12, loss 2.30 -- iter 17000/55000, training for: 35.01s\n",
      "Epoch 9, step (batch no.): 1897 -- acc: 0.11, loss 2.30 -- iter 34250/55000, training for: 36.01s\n",
      "Epoch 9, step (batch no.): 1966 -- acc: 0.11, loss 2.30 -- iter 51500/55000, training for: 37.02s\n",
      "Training Step: 1980  | total loss: \u001b[1m\u001b[32m2.30135\u001b[0m\u001b[0m | time: 4.237s\n",
      "| Adam | epoch: 009 | loss: 2.30135 - acc: 0.1168 | val_loss: 2.30111 - val_acc: 0.1135 -- iter: 55000/55000\n",
      "--\n",
      "Epoch 9, step (batch no.): 1980 -- acc: 0.12, loss 2.30 -- iter 55000/55000, training for: 38.25s\n",
      "Epoch 10, step (batch no.): 2049 -- acc: 0.11, loss 2.30 -- iter 17250/55000, training for: 39.26s\n",
      "Epoch 10, step (batch no.): 2118 -- acc: 0.11, loss 2.30 -- iter 34500/55000, training for: 40.26s\n",
      "Epoch 10, step (batch no.): 2187 -- acc: 0.12, loss 2.30 -- iter 51750/55000, training for: 41.26s\n",
      "Training Step: 2200  | total loss: \u001b[1m\u001b[32m2.30176\u001b[0m\u001b[0m | time: 4.211s\n",
      "| Adam | epoch: 010 | loss: 2.30176 - acc: 0.1154 | val_loss: 2.30175 - val_acc: 0.1135 -- iter: 55000/55000\n",
      "--\n",
      "Epoch 10, step (batch no.): 2200 -- acc: 0.12, loss 2.30 -- iter 55000/55000, training for: 42.46s\n",
      "---------------------------------\n",
      "Run id: S2RZYP\n",
      "Log directory: /tmp/tflearn_logs/\n",
      "---------------------------------\n",
      "Training samples: 55000\n",
      "Validation samples: 10000\n",
      "--\n",
      "Epoch 1, step (batch no.): 1 -- acc: 0.00, loss 0.00 -- iter 00250/55000, training for: 0.20s\n",
      "Epoch 1, step (batch no.): 68 -- acc: 0.96, loss 0.13 -- iter 17000/55000, training for: 1.21s\n",
      "Epoch 1, step (batch no.): 135 -- acc: 0.96, loss 0.13 -- iter 33750/55000, training for: 2.21s\n",
      "Epoch 1, step (batch no.): 203 -- acc: 0.97, loss 0.09 -- iter 50750/55000, training for: 3.23s\n",
      "Training Step: 220  | total loss: \u001b[1m\u001b[32m0.05894\u001b[0m\u001b[0m | time: 4.520s\n",
      "| Adam | epoch: 001 | loss: 0.05894 - acc: 0.9809 | val_loss: 0.06554 - val_acc: 0.9818 -- iter: 55000/55000\n",
      "--\n",
      "Epoch 1, step (batch no.): 220 -- acc: 0.98, loss 0.06 -- iter 55000/55000, training for: 4.53s\n",
      "Epoch 2, step (batch no.): 287 -- acc: 0.98, loss 0.09 -- iter 16750/55000, training for: 5.53s\n",
      "Epoch 2, step (batch no.): 355 -- acc: 0.97, loss 0.09 -- iter 33750/55000, training for: 6.54s\n",
      "Epoch 2, step (batch no.): 422 -- acc: 0.98, loss 0.07 -- iter 50500/55000, training for: 7.54s\n",
      "Training Step: 440  | total loss: \u001b[1m\u001b[32m0.08674\u001b[0m\u001b[0m | time: 4.293s\n",
      "| Adam | epoch: 002 | loss: 0.08674 - acc: 0.9757 | val_loss: 0.09530 - val_acc: 0.9750 -- iter: 55000/55000\n",
      "--\n",
      "Epoch 2, step (batch no.): 440 -- acc: 0.98, loss 0.09 -- iter 55000/55000, training for: 8.83s\n",
      "Epoch 3, step (batch no.): 507 -- acc: 0.97, loss 0.11 -- iter 16750/55000, training for: 9.84s\n",
      "Epoch 3, step (batch no.): 575 -- acc: 0.98, loss 0.08 -- iter 33750/55000, training for: 10.85s\n",
      "Epoch 3, step (batch no.): 643 -- acc: 0.93, loss 0.61 -- iter 50750/55000, training for: 11.86s\n",
      "Training Step: 660  | total loss: \u001b[1m\u001b[32m0.25495\u001b[0m\u001b[0m | time: 4.299s\n",
      "| Adam | epoch: 003 | loss: 0.25495 - acc: 0.9613 | val_loss: 0.18229 - val_acc: 0.9616 -- iter: 55000/55000\n",
      "--\n",
      "Epoch 3, step (batch no.): 660 -- acc: 0.96, loss 0.25 -- iter 55000/55000, training for: 13.14s\n",
      "Epoch 4, step (batch no.): 725 -- acc: 0.97, loss 0.16 -- iter 16250/55000, training for: 14.14s\n",
      "Epoch 4, step (batch no.): 793 -- acc: 0.98, loss 0.09 -- iter 33250/55000, training for: 15.15s\n",
      "Epoch 4, step (batch no.): 860 -- acc: 0.98, loss 0.10 -- iter 50000/55000, training for: 16.16s\n",
      "Training Step: 880  | total loss: \u001b[1m\u001b[32m0.08618\u001b[0m\u001b[0m | time: 4.336s\n",
      "| Adam | epoch: 004 | loss: 0.08618 - acc: 0.9770 | val_loss: 0.07001 - val_acc: 0.9823 -- iter: 55000/55000\n",
      "--\n",
      "Epoch 4, step (batch no.): 880 -- acc: 0.98, loss 0.09 -- iter 55000/55000, training for: 17.48s\n",
      "Epoch 5, step (batch no.): 946 -- acc: 0.98, loss 0.07 -- iter 16500/55000, training for: 18.49s\n",
      "Epoch 5, step (batch no.): 1014 -- acc: 0.98, loss 0.08 -- iter 33500/55000, training for: 19.50s\n",
      "Epoch 5, step (batch no.): 1081 -- acc: 0.97, loss 0.09 -- iter 50250/55000, training for: 20.50s\n",
      "Training Step: 1100  | total loss: \u001b[1m\u001b[32m0.07182\u001b[0m\u001b[0m | time: 4.330s\n",
      "| Adam | epoch: 005 | loss: 0.07182 - acc: 0.9807 | val_loss: 0.10213 - val_acc: 0.9762 -- iter: 55000/55000\n",
      "--\n",
      "Epoch 5, step (batch no.): 1100 -- acc: 0.98, loss 0.07 -- iter 55000/55000, training for: 21.82s\n",
      "Epoch 6, step (batch no.): 1167 -- acc: 0.97, loss 0.14 -- iter 16750/55000, training for: 22.82s\n",
      "Epoch 6, step (batch no.): 1235 -- acc: 0.98, loss 0.08 -- iter 33750/55000, training for: 23.84s\n",
      "Epoch 6, step (batch no.): 1303 -- acc: 0.98, loss 0.09 -- iter 50750/55000, training for: 24.84s\n",
      "Training Step: 1320  | total loss: \u001b[1m\u001b[32m0.06115\u001b[0m\u001b[0m | time: 4.290s\n",
      "| Adam | epoch: 006 | loss: 0.06115 - acc: 0.9835 | val_loss: 0.07035 - val_acc: 0.9845 -- iter: 55000/55000\n",
      "--\n",
      "Epoch 6, step (batch no.): 1320 -- acc: 0.98, loss 0.06 -- iter 55000/55000, training for: 26.11s\n",
      "Epoch 7, step (batch no.): 1386 -- acc: 0.98, loss 0.08 -- iter 16500/55000, training for: 27.13s\n",
      "Epoch 7, step (batch no.): 1452 -- acc: 0.98, loss 0.08 -- iter 33000/55000, training for: 28.14s\n",
      "Epoch 7, step (batch no.): 1519 -- acc: 0.90, loss 1.28 -- iter 49750/55000, training for: 29.15s\n",
      "Training Step: 1540  | total loss: \u001b[1m\u001b[32m0.25507\u001b[0m\u001b[0m | time: 4.359s\n",
      "| Adam | epoch: 007 | loss: 0.25507 - acc: 0.9638 | val_loss: 0.11637 - val_acc: 0.9799 -- iter: 55000/55000\n",
      "--\n",
      "Epoch 7, step (batch no.): 1540 -- acc: 0.96, loss 0.26 -- iter 55000/55000, training for: 30.48s\n",
      "Epoch 8, step (batch no.): 1607 -- acc: 0.96, loss 0.22 -- iter 16750/55000, training for: 31.49s\n",
      "Epoch 8, step (batch no.): 1675 -- acc: 0.96, loss 0.32 -- iter 33750/55000, training for: 32.49s\n",
      "Epoch 8, step (batch no.): 1742 -- acc: 0.88, loss 1.38 -- iter 50500/55000, training for: 33.49s\n",
      "Training Step: 1760  | total loss: \u001b[1m\u001b[32m0.43462\u001b[0m\u001b[0m | time: 4.299s\n",
      "| Adam | epoch: 008 | loss: 0.43462 - acc: 0.9498 | val_loss: 0.30465 - val_acc: 0.9579 -- iter: 55000/55000\n",
      "--\n",
      "Epoch 8, step (batch no.): 1760 -- acc: 0.95, loss 0.43 -- iter 55000/55000, training for: 34.79s\n",
      "Epoch 9, step (batch no.): 1826 -- acc: 0.96, loss 0.26 -- iter 16500/55000, training for: 35.79s\n",
      "Epoch 9, step (batch no.): 1893 -- acc: 0.96, loss 0.30 -- iter 33250/55000, training for: 36.80s\n",
      "Epoch 9, step (batch no.): 1960 -- acc: 0.96, loss 0.39 -- iter 50000/55000, training for: 37.81s\n",
      "Training Step: 1980  | total loss: \u001b[1m\u001b[32m0.23817\u001b[0m\u001b[0m | time: 4.333s\n",
      "| Adam | epoch: 009 | loss: 0.23817 - acc: 0.9647 | val_loss: 0.26375 - val_acc: 0.9694 -- iter: 55000/55000\n",
      "--\n",
      "Epoch 9, step (batch no.): 1980 -- acc: 0.96, loss 0.24 -- iter 55000/55000, training for: 39.13s\n",
      "Epoch 10, step (batch no.): 2045 -- acc: 0.98, loss 0.14 -- iter 16250/55000, training for: 40.13s\n",
      "Epoch 10, step (batch no.): 2113 -- acc: 0.98, loss 0.14 -- iter 33250/55000, training for: 41.14s\n",
      "Epoch 10, step (batch no.): 2180 -- acc: 0.90, loss 1.61 -- iter 50000/55000, training for: 42.15s\n",
      "Training Step: 2200  | total loss: \u001b[1m\u001b[32m0.29961\u001b[0m\u001b[0m | time: 4.345s\n",
      "| Adam | epoch: 010 | loss: 0.29961 - acc: 0.9675 | val_loss: 0.11350 - val_acc: 0.9787 -- iter: 55000/55000\n",
      "--\n",
      "Epoch 10, step (batch no.): 2200 -- acc: 0.97, loss 0.30 -- iter 55000/55000, training for: 43.48s\n"
     ]
    },
    {
     "data": {
      "text/plain": [
       "{'elu': [0.9817999988794327,\n",
       "  0.9749999970197678,\n",
       "  0.9615999966859817,\n",
       "  0.9822999984025955,\n",
       "  0.976199996471405,\n",
       "  0.9844999983906746,\n",
       "  0.9798999994993209,\n",
       "  0.9578999981284142,\n",
       "  0.9693999946117401,\n",
       "  0.9786999955773353],\n",
       " 'relu': [0.973899994790554,\n",
       "  0.9839999958872795,\n",
       "  0.9850000023841858,\n",
       "  0.9846000015735626,\n",
       "  0.9855999991297721,\n",
       "  0.9789999991655349,\n",
       "  0.983899998664856,\n",
       "  0.9879000008106231,\n",
       "  0.9869000002741813,\n",
       "  0.9836999997496605],\n",
       " 'sigmoid': [0.11350000016391278,\n",
       "  0.11350000016391278,\n",
       "  0.11350000016391278,\n",
       "  0.11350000016391278,\n",
       "  0.10100000090897084,\n",
       "  0.11350000016391278,\n",
       "  0.11350000016391278,\n",
       "  0.11350000016391278,\n",
       "  0.11350000016391278,\n",
       "  0.11350000016391278]}"
      ]
     },
     "execution_count": 75,
     "metadata": {
      "tags": []
     },
     "output_type": "execute_result"
    }
   ],
   "source": [
    "liczba_epok = 10\n",
    "wyniki = {}\n",
    "\n",
    "for f_aktywacji in [\"relu\", \"sigmoid\", \"elu\"]:\n",
    "  tf.reset_default_graph()\n",
    "  tf.logging.set_verbosity(tf.logging.ERROR)\n",
    "\n",
    "  ### Warstwy odtąd\n",
    "  network = input_data(shape=[None, 28, 28, 1], name='input')\n",
    "\n",
    "  network = conv_2d(network, 32, 3, activation=f_aktywacji, regularizer=\"L2\")\n",
    "  network = max_pool_2d(network, 2)\n",
    "  network = conv_2d(network, 32, 3, activation=f_aktywacji, regularizer=\"L2\")\n",
    "  network = max_pool_2d(network, 2)\n",
    "  network = conv_2d(network, 32, 3, activation=f_aktywacji, regularizer=\"L2\")\n",
    "\n",
    "  network = fully_connected(network, 128, activation=f_aktywacji) \n",
    "  network = fully_connected(network, 256, activation=f_aktywacji)\n",
    "\n",
    "  network = fully_connected(network, 10, activation='softmax')\n",
    "  ### Warstwy dotąd\n",
    "\n",
    "  network = regression(network, optimizer='adam', learning_rate=0.01,\n",
    "                       batch_size=250,\n",
    "                       loss='categorical_crossentropy', name='target')\n",
    "  \n",
    "  ### Proces trenowania\n",
    "  scores = Stats(examples=len(X))\n",
    "  model = tflearn.DNN(network, tensorboard_verbose=0)\n",
    "  model.fit({'input': X}, {'target': Y},\n",
    "            n_epoch=liczba_epok, \n",
    "            validation_set=({'input': testX}, {'target': testY}), show_metric=True, callbacks=[scores])\n",
    "  \n",
    "  wyniki[f_aktywacji] = [scores.epoch_data[i]['val_acc'] for i in range(len(scores.epoch_data))]\n",
    "  \n",
    "    \n",
    "epochs = [scores.epoch_data[i]['epoch'] for i in range(len(scores.epoch_data))]\n",
    "wyniki\n",
    "  \n",
    "  "
   ]
  },
  {
   "cell_type": "code",
   "execution_count": 83,
   "metadata": {
    "colab": {
     "autoexec": {
      "startup": false,
      "wait_interval": 0
     },
     "base_uri": "https://localhost:8080/",
     "height": 294
    },
    "colab_type": "code",
    "executionInfo": {
     "elapsed": 5139,
     "status": "ok",
     "timestamp": 1529059334148,
     "user": {
      "displayName": "Paweł Lonca",
      "photoUrl": "https://lh3.googleusercontent.com/a/default-user=s128",
      "userId": "116249747680176633784"
     },
     "user_tz": -120
    },
    "id": "xUzkT6eFBQVC",
    "outputId": "618da7c6-f695-4da8-eb88-3b6de843b4be"
   },
   "outputs": [
    {
     "data": {
      "image/png": "[encoded data removed]",
      "text/plain": [
       "<matplotlib.figure.Figure at 0x7f18ce57d358>"
      ]
     },
     "metadata": {
      "tags": []
     },
     "output_type": "display_data"
    }
   ],
   "source": [
    "plt.plot(epochs, wyniki['relu'], 'b', label = \"relu\")\n",
    "plt.plot(epochs, wyniki['elu'], 'r', label = \"elu\")\n",
    "plt.title('Validation accuracy dla dwóch funkcji aktywacji')\n",
    "plt.xlabel('Epochs')\n",
    "plt.ylabel('Validation accuracy')\n",
    "plt.xticks(np.arange(1, liczba_epok+1, step=1))\n",
    "plt.legend()\n",
    "plt.show()"
   ]
  },
  {
   "cell_type": "code",
   "execution_count": 84,
   "metadata": {
    "colab": {
     "autoexec": {
      "startup": false,
      "wait_interval": 0
     },
     "base_uri": "https://localhost:8080/",
     "height": 294
    },
    "colab_type": "code",
    "executionInfo": {
     "elapsed": 9551,
     "status": "ok",
     "timestamp": 1529059409377,
     "user": {
      "displayName": "Paweł Lonca",
      "photoUrl": "https://lh3.googleusercontent.com/a/default-user=s128",
      "userId": "116249747680176633784"
     },
     "user_tz": -120
    },
    "id": "bxEi7w73Br49",
    "outputId": "47a8e44f-7381-4104-f866-ed1548c5e108"
   },
   "outputs": [
    {
     "data": {
      "image/png": "[encoded data removed]",
      "text/plain": [
       "<matplotlib.figure.Figure at 0x7f18cb0d27f0>"
      ]
     },
     "metadata": {
      "tags": []
     },
     "output_type": "display_data"
    }
   ],
   "source": [
    "plt.plot(epochs, wyniki['sigmoid'], 'g')\n",
    "plt.title('Validation accuracy dla sigmoid')\n",
    "plt.xlabel('Epochs')\n",
    "plt.ylabel('Validation accuracy')\n",
    "plt.xticks(np.arange(1, liczba_epok+1, step=1))\n",
    "plt.show()"
   ]
  },
  {
   "cell_type": "markdown",
   "metadata": {
    "colab_type": "text",
    "id": "-OX8igExWXYD"
   },
   "source": [
    "# Zadanie C: overfitting\n",
    "Narysuj wykres zależności accuracy dla danych **treningowych** i **walidacyjnych** od liczby epok (50 epok), dla sieci która ma tylko jedną ukrytą pełną warstwę z 1000 neuronów z aktywacją `relu` i warstwę wyjściową z 10 neuronami. \n",
    "\n",
    "Obliczenia wykonaj używając tylko 1000 pierwszych próbek z zestawu treningowego, jak pokazano poniżej:"
   ]
  },
  {
   "cell_type": "code",
   "execution_count": 0,
   "metadata": {
    "colab": {
     "autoexec": {
      "startup": false,
      "wait_interval": 0
     }
    },
    "colab_type": "code",
    "id": "9v7skipKDFlf"
   },
   "outputs": [],
   "source": [
    "tf.reset_default_graph()\n",
    "tf.logging.set_verbosity(tf.logging.ERROR)\n",
    "\n",
    "### Warstwy odtąd\n",
    "network = input_data(shape=[None, 28, 28, 1], name='input')\n",
    "\n",
    "network = fully_connected(network, 1000, activation='relu')\n",
    "\n",
    "network = fully_connected(network, 10, activation='softmax')\n",
    "### Warstwy dotąd\n",
    "\n",
    "network = regression(network, optimizer='adam', learning_rate=0.01,\n",
    "                       batch_size=250,\n",
    "                       loss='categorical_crossentropy', name='target')\n",
    "\n"
   ]
  },
  {
   "cell_type": "code",
   "execution_count": 88,
   "metadata": {
    "colab": {
     "autoexec": {
      "startup": false,
      "wait_interval": 0
     },
     "base_uri": "https://localhost:8080/",
     "height": 3553
    },
    "colab_type": "code",
    "executionInfo": {
     "elapsed": 54186,
     "status": "ok",
     "timestamp": 1529059824882,
     "user": {
      "displayName": "Paweł Lonca",
      "photoUrl": "https://lh3.googleusercontent.com/a/default-user=s128",
      "userId": "116249747680176633784"
     },
     "user_tz": -120
    },
    "id": "bTIy2YLtWXYG",
    "outputId": "361e29b0-e0a1-4496-b69a-c2517b0dd2c4"
   },
   "outputs": [
    {
     "name": "stdout",
     "output_type": "stream",
     "text": [
      "---------------------------------\n",
      "Run id: J1N6JC\n",
      "Log directory: /tmp/tflearn_logs/\n",
      "---------------------------------\n",
      "Training samples: 1000\n",
      "Validation samples: 10000\n",
      "--\n",
      "Epoch 1, step (batch no.): 1 -- acc: 0.00, loss 0.00 -- iter 00250/01000, training for: 0.09s\n",
      "Training Step: 4  | total loss: \u001b[1m\u001b[32m2.39839\u001b[0m\u001b[0m | time: 1.137s\n",
      "| Adam | epoch: 001 | loss: 2.39839 - acc: 0.3569 | val_loss: 1.51403 - val_acc: 0.5396 -- iter: 1000/1000\n",
      "--\n",
      "Epoch 1, step (batch no.): 4 -- acc: 0.36, loss 2.40 -- iter 01000/01000, training for: 1.14s\n",
      "Training Step: 8  | total loss: \u001b[1m\u001b[32m1.85270\u001b[0m\u001b[0m | time: 1.033s\n",
      "| Adam | epoch: 002 | loss: 1.85270 - acc: 0.5121 | val_loss: 0.86010 - val_acc: 0.7364 -- iter: 1000/1000\n",
      "--\n",
      "Epoch 2, step (batch no.): 8 -- acc: 0.51, loss 1.85 -- iter 01000/01000, training for: 2.17s\n",
      "Training Step: 12  | total loss: \u001b[1m\u001b[32m0.63735\u001b[0m\u001b[0m | time: 1.038s\n",
      "| Adam | epoch: 003 | loss: 0.63735 - acc: 0.8222 | val_loss: 0.54723 - val_acc: 0.8494 -- iter: 1000/1000\n",
      "--\n",
      "Epoch 3, step (batch no.): 12 -- acc: 0.82, loss 0.64 -- iter 01000/01000, training for: 3.21s\n",
      "Training Step: 16  | total loss: \u001b[1m\u001b[32m0.64231\u001b[0m\u001b[0m | time: 1.045s\n",
      "| Adam | epoch: 004 | loss: 0.64231 - acc: 0.8615 | val_loss: 0.46613 - val_acc: 0.8725 -- iter: 1000/1000\n",
      "--\n",
      "Epoch 4, step (batch no.): 16 -- acc: 0.86, loss 0.64 -- iter 01000/01000, training for: 4.26s\n",
      "Training Step: 20  | total loss: \u001b[1m\u001b[32m1.00321\u001b[0m\u001b[0m | time: 1.034s\n",
      "| Adam | epoch: 005 | loss: 1.00321 - acc: 0.8233 | val_loss: 0.63531 - val_acc: 0.8638 -- iter: 1000/1000\n",
      "--\n",
      "Epoch 5, step (batch no.): 20 -- acc: 0.82, loss 1.00 -- iter 01000/01000, training for: 5.29s\n",
      "Training Step: 24  | total loss: \u001b[1m\u001b[32m0.95719\u001b[0m\u001b[0m | time: 1.033s\n",
      "| Adam | epoch: 006 | loss: 0.95719 - acc: 0.8260 | val_loss: 0.55945 - val_acc: 0.8701 -- iter: 1000/1000\n",
      "--\n",
      "Epoch 6, step (batch no.): 24 -- acc: 0.83, loss 0.96 -- iter 01000/01000, training for: 6.33s\n",
      "Training Step: 28  | total loss: \u001b[1m\u001b[32m0.86089\u001b[0m\u001b[0m | time: 1.036s\n",
      "| Adam | epoch: 007 | loss: 0.86089 - acc: 0.8476 | val_loss: 0.43854 - val_acc: 0.8827 -- iter: 1000/1000\n",
      "--\n",
      "Epoch 7, step (batch no.): 28 -- acc: 0.85, loss 0.86 -- iter 01000/01000, training for: 7.37s\n",
      "Training Step: 32  | total loss: \u001b[1m\u001b[32m0.41865\u001b[0m\u001b[0m | time: 1.040s\n",
      "| Adam | epoch: 008 | loss: 0.41865 - acc: 0.9247 | val_loss: 0.37913 - val_acc: 0.8932 -- iter: 1000/1000\n",
      "--\n",
      "Epoch 8, step (batch no.): 32 -- acc: 0.92, loss 0.42 -- iter 01000/01000, training for: 8.41s\n",
      "Training Step: 36  | total loss: \u001b[1m\u001b[32m0.51382\u001b[0m\u001b[0m | time: 1.035s\n",
      "| Adam | epoch: 009 | loss: 0.51382 - acc: 0.9185 | val_loss: 0.40021 - val_acc: 0.8897 -- iter: 1000/1000\n",
      "--\n",
      "Epoch 9, step (batch no.): 36 -- acc: 0.92, loss 0.51 -- iter 01000/01000, training for: 9.44s\n",
      "Training Step: 40  | total loss: \u001b[1m\u001b[32m1.02059\u001b[0m\u001b[0m | time: 1.039s\n",
      "| Adam | epoch: 010 | loss: 1.02059 - acc: 0.8432 | val_loss: 0.71205 - val_acc: 0.8651 -- iter: 1000/1000\n",
      "--\n",
      "Epoch 10, step (batch no.): 40 -- acc: 0.84, loss 1.02 -- iter 01000/01000, training for: 10.48s\n",
      "Training Step: 44  | total loss: \u001b[1m\u001b[32m0.67566\u001b[0m\u001b[0m | time: 1.035s\n",
      "| Adam | epoch: 011 | loss: 0.67566 - acc: 0.9174 | val_loss: 0.47609 - val_acc: 0.8878 -- iter: 1000/1000\n",
      "--\n",
      "Epoch 11, step (batch no.): 44 -- acc: 0.92, loss 0.68 -- iter 01000/01000, training for: 11.52s\n",
      "Training Step: 48  | total loss: \u001b[1m\u001b[32m0.41920\u001b[0m\u001b[0m | time: 1.038s\n",
      "| Adam | epoch: 012 | loss: 0.41920 - acc: 0.9558 | val_loss: 0.33850 - val_acc: 0.8966 -- iter: 1000/1000\n",
      "--\n",
      "Epoch 12, step (batch no.): 48 -- acc: 0.96, loss 0.42 -- iter 01000/01000, training for: 12.56s\n",
      "Training Step: 52  | total loss: \u001b[1m\u001b[32m0.24793\u001b[0m\u001b[0m | time: 1.037s\n",
      "| Adam | epoch: 013 | loss: 0.24793 - acc: 0.9743 | val_loss: 0.34542 - val_acc: 0.8927 -- iter: 1000/1000\n",
      "--\n",
      "Epoch 13, step (batch no.): 52 -- acc: 0.97, loss 0.25 -- iter 01000/01000, training for: 13.60s\n",
      "Training Step: 56  | total loss: \u001b[1m\u001b[32m0.15030\u001b[0m\u001b[0m | time: 1.038s\n",
      "| Adam | epoch: 014 | loss: 0.15030 - acc: 0.9841 | val_loss: 0.34609 - val_acc: 0.8981 -- iter: 1000/1000\n",
      "--\n",
      "Epoch 14, step (batch no.): 56 -- acc: 0.98, loss 0.15 -- iter 01000/01000, training for: 14.64s\n",
      "Training Step: 60  | total loss: \u001b[1m\u001b[32m0.09494\u001b[0m\u001b[0m | time: 1.039s\n",
      "| Adam | epoch: 015 | loss: 0.09494 - acc: 0.9899 | val_loss: 0.35620 - val_acc: 0.8966 -- iter: 1000/1000\n",
      "--\n",
      "Epoch 15, step (batch no.): 60 -- acc: 0.99, loss 0.09 -- iter 01000/01000, training for: 15.68s\n",
      "Training Step: 64  | total loss: \u001b[1m\u001b[32m0.06379\u001b[0m\u001b[0m | time: 1.039s\n",
      "| Adam | epoch: 016 | loss: 0.06379 - acc: 0.9924 | val_loss: 0.36181 - val_acc: 0.9017 -- iter: 1000/1000\n",
      "--\n",
      "Epoch 16, step (batch no.): 64 -- acc: 0.99, loss 0.06 -- iter 01000/01000, training for: 16.72s\n",
      "Training Step: 68  | total loss: \u001b[1m\u001b[32m0.72611\u001b[0m\u001b[0m | time: 1.035s\n",
      "| Adam | epoch: 017 | loss: 0.72611 - acc: 0.9429 | val_loss: 0.40494 - val_acc: 0.8795 -- iter: 1000/1000\n",
      "--\n",
      "Epoch 17, step (batch no.): 68 -- acc: 0.94, loss 0.73 -- iter 01000/01000, training for: 17.76s\n",
      "Training Step: 72  | total loss: \u001b[1m\u001b[32m0.46762\u001b[0m\u001b[0m | time: 1.038s\n",
      "| Adam | epoch: 018 | loss: 0.46762 - acc: 0.9613 | val_loss: 0.44908 - val_acc: 0.8708 -- iter: 1000/1000\n",
      "--\n",
      "Epoch 18, step (batch no.): 72 -- acc: 0.96, loss 0.47 -- iter 01000/01000, training for: 18.80s\n",
      "Training Step: 76  | total loss: \u001b[1m\u001b[32m0.32205\u001b[0m\u001b[0m | time: 1.035s\n",
      "| Adam | epoch: 019 | loss: 0.32205 - acc: 0.9726 | val_loss: 0.41814 - val_acc: 0.8736 -- iter: 1000/1000\n",
      "--\n",
      "Epoch 19, step (batch no.): 76 -- acc: 0.97, loss 0.32 -- iter 01000/01000, training for: 19.84s\n",
      "Training Step: 80  | total loss: \u001b[1m\u001b[32m0.68208\u001b[0m\u001b[0m | time: 1.042s\n",
      "| Adam | epoch: 020 | loss: 0.68208 - acc: 0.9231 | val_loss: 0.56652 - val_acc: 0.8629 -- iter: 1000/1000\n",
      "--\n",
      "Epoch 20, step (batch no.): 80 -- acc: 0.92, loss 0.68 -- iter 01000/01000, training for: 20.88s\n",
      "Training Step: 84  | total loss: \u001b[1m\u001b[32m0.52355\u001b[0m\u001b[0m | time: 1.044s\n",
      "| Adam | epoch: 021 | loss: 0.52355 - acc: 0.9456 | val_loss: 0.48909 - val_acc: 0.8666 -- iter: 1000/1000\n",
      "--\n",
      "Epoch 21, step (batch no.): 84 -- acc: 0.95, loss 0.52 -- iter 01000/01000, training for: 21.93s\n",
      "Training Step: 88  | total loss: \u001b[1m\u001b[32m0.81697\u001b[0m\u001b[0m | time: 1.038s\n",
      "| Adam | epoch: 022 | loss: 0.81697 - acc: 0.8931 | val_loss: 0.48361 - val_acc: 0.8762 -- iter: 1000/1000\n",
      "--\n",
      "Epoch 22, step (batch no.): 88 -- acc: 0.89, loss 0.82 -- iter 01000/01000, training for: 22.97s\n",
      "Training Step: 92  | total loss: \u001b[1m\u001b[32m0.59793\u001b[0m\u001b[0m | time: 1.034s\n",
      "| Adam | epoch: 023 | loss: 0.59793 - acc: 0.9272 | val_loss: 0.50011 - val_acc: 0.8857 -- iter: 1000/1000\n",
      "--\n",
      "Epoch 23, step (batch no.): 92 -- acc: 0.93, loss 0.60 -- iter 01000/01000, training for: 24.00s\n",
      "Training Step: 96  | total loss: \u001b[1m\u001b[32m0.45235\u001b[0m\u001b[0m | time: 1.036s\n",
      "| Adam | epoch: 024 | loss: 0.45235 - acc: 0.9492 | val_loss: 0.39054 - val_acc: 0.8935 -- iter: 1000/1000\n",
      "--\n",
      "Epoch 24, step (batch no.): 96 -- acc: 0.95, loss 0.45 -- iter 01000/01000, training for: 25.04s\n",
      "Training Step: 100  | total loss: \u001b[1m\u001b[32m0.32244\u001b[0m\u001b[0m | time: 1.041s\n",
      "| Adam | epoch: 025 | loss: 0.32244 - acc: 0.9667 | val_loss: 0.33413 - val_acc: 0.8995 -- iter: 1000/1000\n",
      "--\n",
      "Epoch 25, step (batch no.): 100 -- acc: 0.97, loss 0.32 -- iter 01000/01000, training for: 26.08s\n",
      "Training Step: 104  | total loss: \u001b[1m\u001b[32m0.59368\u001b[0m\u001b[0m | time: 1.037s\n",
      "| Adam | epoch: 026 | loss: 0.59368 - acc: 0.9310 | val_loss: 0.45874 - val_acc: 0.8664 -- iter: 1000/1000\n",
      "--\n",
      "Epoch 26, step (batch no.): 104 -- acc: 0.93, loss 0.59 -- iter 01000/01000, training for: 27.12s\n",
      "Training Step: 108  | total loss: \u001b[1m\u001b[32m0.42723\u001b[0m\u001b[0m | time: 1.037s\n",
      "| Adam | epoch: 027 | loss: 0.42723 - acc: 0.9493 | val_loss: 0.37861 - val_acc: 0.8954 -- iter: 1000/1000\n",
      "--\n",
      "Epoch 27, step (batch no.): 108 -- acc: 0.95, loss 0.43 -- iter 01000/01000, training for: 28.16s\n",
      "Training Step: 112  | total loss: \u001b[1m\u001b[32m0.30402\u001b[0m\u001b[0m | time: 1.041s\n",
      "| Adam | epoch: 028 | loss: 0.30402 - acc: 0.9668 | val_loss: 0.44482 - val_acc: 0.8810 -- iter: 1000/1000\n",
      "--\n",
      "Epoch 28, step (batch no.): 112 -- acc: 0.97, loss 0.30 -- iter 01000/01000, training for: 29.20s\n",
      "Training Step: 116  | total loss: \u001b[1m\u001b[32m0.46991\u001b[0m\u001b[0m | time: 1.039s\n",
      "| Adam | epoch: 029 | loss: 0.46991 - acc: 0.9425 | val_loss: 0.45055 - val_acc: 0.8992 -- iter: 1000/1000\n",
      "--\n",
      "Epoch 29, step (batch no.): 116 -- acc: 0.94, loss 0.47 -- iter 01000/01000, training for: 30.24s\n",
      "Training Step: 120  | total loss: \u001b[1m\u001b[32m0.60154\u001b[0m\u001b[0m | time: 1.036s\n",
      "| Adam | epoch: 030 | loss: 0.60154 - acc: 0.9148 | val_loss: 0.59085 - val_acc: 0.8834 -- iter: 1000/1000\n",
      "--\n",
      "Epoch 30, step (batch no.): 120 -- acc: 0.91, loss 0.60 -- iter 01000/01000, training for: 31.28s\n",
      "Training Step: 124  | total loss: \u001b[1m\u001b[32m0.58421\u001b[0m\u001b[0m | time: 1.034s\n",
      "| Adam | epoch: 031 | loss: 0.58421 - acc: 0.9176 | val_loss: 0.47059 - val_acc: 0.8872 -- iter: 1000/1000\n",
      "--\n",
      "Epoch 31, step (batch no.): 124 -- acc: 0.92, loss 0.58 -- iter 01000/01000, training for: 32.32s\n",
      "Training Step: 128  | total loss: \u001b[1m\u001b[32m0.82592\u001b[0m\u001b[0m | time: 1.043s\n",
      "| Adam | epoch: 032 | loss: 0.82592 - acc: 0.8773 | val_loss: 0.44221 - val_acc: 0.8951 -- iter: 1000/1000\n",
      "--\n",
      "Epoch 32, step (batch no.): 128 -- acc: 0.88, loss 0.83 -- iter 01000/01000, training for: 33.36s\n",
      "Training Step: 132  | total loss: \u001b[1m\u001b[32m0.59045\u001b[0m\u001b[0m | time: 1.038s\n",
      "| Adam | epoch: 033 | loss: 0.59045 - acc: 0.9195 | val_loss: 0.56774 - val_acc: 0.8874 -- iter: 1000/1000\n",
      "--\n",
      "Epoch 33, step (batch no.): 132 -- acc: 0.92, loss 0.59 -- iter 01000/01000, training for: 34.40s\n",
      "Training Step: 136  | total loss: \u001b[1m\u001b[32m0.83367\u001b[0m\u001b[0m | time: 1.040s\n",
      "| Adam | epoch: 034 | loss: 0.83367 - acc: 0.8778 | val_loss: 0.68941 - val_acc: 0.8752 -- iter: 1000/1000\n",
      "--\n",
      "Epoch 34, step (batch no.): 136 -- acc: 0.88, loss 0.83 -- iter 01000/01000, training for: 35.45s\n",
      "Training Step: 140  | total loss: \u001b[1m\u001b[32m0.95006\u001b[0m\u001b[0m | time: 1.037s\n",
      "| Adam | epoch: 035 | loss: 0.95006 - acc: 0.8456 | val_loss: 0.70206 - val_acc: 0.8686 -- iter: 1000/1000\n",
      "--\n",
      "Epoch 35, step (batch no.): 140 -- acc: 0.85, loss 0.95 -- iter 01000/01000, training for: 36.48s\n",
      "Training Step: 144  | total loss: \u001b[1m\u001b[32m0.72539\u001b[0m\u001b[0m | time: 1.035s\n",
      "| Adam | epoch: 036 | loss: 0.72539 - acc: 0.8977 | val_loss: 0.41203 - val_acc: 0.8895 -- iter: 1000/1000\n",
      "--\n",
      "Epoch 36, step (batch no.): 144 -- acc: 0.90, loss 0.73 -- iter 01000/01000, training for: 37.52s\n"
     ]
    },
    {
     "name": "stdout",
     "output_type": "stream",
     "text": [
      "Training Step: 148  | total loss: \u001b[1m\u001b[32m0.72992\u001b[0m\u001b[0m | time: 1.035s\n",
      "\u001b[2K\r",
      "| Adam | epoch: 037 | loss: 0.72992 - acc: 0.9001 | val_loss: 0.39425 - val_acc: 0.8804 -- iter: 1000/1000\n",
      "--\n",
      "Epoch 37, step (batch no.): 148 -- acc: 0.90, loss 0.73 -- iter 01000/01000, training for: 38.56s\n",
      "Training Step: 152  | total loss: \u001b[1m\u001b[32m0.49944\u001b[0m\u001b[0m | time: 1.037s\n",
      "| Adam | epoch: 038 | loss: 0.49944 - acc: 0.9333 | val_loss: 0.36183 - val_acc: 0.8883 -- iter: 1000/1000\n",
      "--\n",
      "Epoch 38, step (batch no.): 152 -- acc: 0.93, loss 0.50 -- iter 01000/01000, training for: 39.59s\n",
      "Training Step: 156  | total loss: \u001b[1m\u001b[32m0.34095\u001b[0m\u001b[0m | time: 1.038s\n",
      "| Adam | epoch: 039 | loss: 0.34095 - acc: 0.9557 | val_loss: 0.37180 - val_acc: 0.8858 -- iter: 1000/1000\n",
      "--\n",
      "Epoch 39, step (batch no.): 156 -- acc: 0.96, loss 0.34 -- iter 01000/01000, training for: 40.63s\n",
      "Training Step: 160  | total loss: \u001b[1m\u001b[32m0.23073\u001b[0m\u001b[0m | time: 1.037s\n",
      "| Adam | epoch: 040 | loss: 0.23073 - acc: 0.9709 | val_loss: 0.36857 - val_acc: 0.8870 -- iter: 1000/1000\n",
      "--\n",
      "Epoch 40, step (batch no.): 160 -- acc: 0.97, loss 0.23 -- iter 01000/01000, training for: 41.67s\n",
      "Training Step: 164  | total loss: \u001b[1m\u001b[32m0.15730\u001b[0m\u001b[0m | time: 1.040s\n",
      "| Adam | epoch: 041 | loss: 0.15730 - acc: 0.9809 | val_loss: 0.34677 - val_acc: 0.8948 -- iter: 1000/1000\n",
      "--\n",
      "Epoch 41, step (batch no.): 164 -- acc: 0.98, loss 0.16 -- iter 01000/01000, training for: 42.71s\n",
      "Training Step: 168  | total loss: \u001b[1m\u001b[32m0.98887\u001b[0m\u001b[0m | time: 1.038s\n",
      "| Adam | epoch: 042 | loss: 0.98887 - acc: 0.8995 | val_loss: 0.42362 - val_acc: 0.8702 -- iter: 1000/1000\n",
      "--\n",
      "Epoch 42, step (batch no.): 168 -- acc: 0.90, loss 0.99 -- iter 01000/01000, training for: 43.75s\n",
      "Training Step: 172  | total loss: \u001b[1m\u001b[32m0.68051\u001b[0m\u001b[0m | time: 1.036s\n",
      "| Adam | epoch: 043 | loss: 0.68051 - acc: 0.9325 | val_loss: 0.53865 - val_acc: 0.8639 -- iter: 1000/1000\n",
      "--\n",
      "Epoch 43, step (batch no.): 172 -- acc: 0.93, loss 0.68 -- iter 01000/01000, training for: 44.79s\n",
      "Training Step: 176  | total loss: \u001b[1m\u001b[32m0.49527\u001b[0m\u001b[0m | time: 1.043s\n",
      "| Adam | epoch: 044 | loss: 0.49527 - acc: 0.9548 | val_loss: 0.47928 - val_acc: 0.8817 -- iter: 1000/1000\n",
      "--\n",
      "Epoch 44, step (batch no.): 176 -- acc: 0.95, loss 0.50 -- iter 01000/01000, training for: 45.84s\n",
      "Training Step: 180  | total loss: \u001b[1m\u001b[32m0.36195\u001b[0m\u001b[0m | time: 1.042s\n",
      "| Adam | epoch: 045 | loss: 0.36195 - acc: 0.9704 | val_loss: 0.38051 - val_acc: 0.8999 -- iter: 1000/1000\n",
      "--\n",
      "Epoch 45, step (batch no.): 180 -- acc: 0.97, loss 0.36 -- iter 01000/01000, training for: 46.88s\n",
      "Training Step: 184  | total loss: \u001b[1m\u001b[32m0.25730\u001b[0m\u001b[0m | time: 1.039s\n",
      "| Adam | epoch: 046 | loss: 0.25730 - acc: 0.9806 | val_loss: 0.32895 - val_acc: 0.9041 -- iter: 1000/1000\n",
      "--\n",
      "Epoch 46, step (batch no.): 184 -- acc: 0.98, loss 0.26 -- iter 01000/01000, training for: 47.92s\n",
      "Training Step: 188  | total loss: \u001b[1m\u001b[32m0.18026\u001b[0m\u001b[0m | time: 1.035s\n",
      "| Adam | epoch: 047 | loss: 0.18026 - acc: 0.9868 | val_loss: 0.31323 - val_acc: 0.9054 -- iter: 1000/1000\n",
      "--\n",
      "Epoch 47, step (batch no.): 188 -- acc: 0.99, loss 0.18 -- iter 01000/01000, training for: 48.96s\n",
      "Training Step: 192  | total loss: \u001b[1m\u001b[32m0.12468\u001b[0m\u001b[0m | time: 1.035s\n",
      "| Adam | epoch: 048 | loss: 0.12468 - acc: 0.9914 | val_loss: 0.34366 - val_acc: 0.8986 -- iter: 1000/1000\n",
      "--\n",
      "Epoch 48, step (batch no.): 192 -- acc: 0.99, loss 0.12 -- iter 01000/01000, training for: 49.99s\n",
      "Training Step: 196  | total loss: \u001b[1m\u001b[32m0.63872\u001b[0m\u001b[0m | time: 1.035s\n",
      "| Adam | epoch: 049 | loss: 0.63872 - acc: 0.9284 | val_loss: 0.49621 - val_acc: 0.8766 -- iter: 1000/1000\n",
      "--\n",
      "Epoch 49, step (batch no.): 196 -- acc: 0.93, loss 0.64 -- iter 01000/01000, training for: 51.03s\n",
      "Training Step: 200  | total loss: \u001b[1m\u001b[32m0.47077\u001b[0m\u001b[0m | time: 1.040s\n",
      "| Adam | epoch: 050 | loss: 0.47077 - acc: 0.9518 | val_loss: 0.48997 - val_acc: 0.8920 -- iter: 1000/1000\n",
      "--\n",
      "Epoch 50, step (batch no.): 200 -- acc: 0.95, loss 0.47 -- iter 01000/01000, training for: 52.07s\n"
     ]
    }
   ],
   "source": [
    "scores = Stats(1000)\n",
    "model = tflearn.DNN(network, tensorboard_verbose=0)\n",
    "model.fit({'input': X[:1000]}, {'target': Y[:1000]}, n_epoch=50,\n",
    "           validation_set=({'input': testX}, {'target': testY}), show_metric=True, callbacks=[scores])\n"
   ]
  },
  {
   "cell_type": "code",
   "execution_count": 92,
   "metadata": {
    "colab": {
     "autoexec": {
      "startup": false,
      "wait_interval": 0
     },
     "base_uri": "https://localhost:8080/",
     "height": 867
    },
    "colab_type": "code",
    "executionInfo": {
     "elapsed": 13308,
     "status": "ok",
     "timestamp": 1529060299020,
     "user": {
      "displayName": "Paweł Lonca",
      "photoUrl": "https://lh3.googleusercontent.com/a/default-user=s128",
      "userId": "116249747680176633784"
     },
     "user_tz": -120
    },
    "id": "J2XnKSGFD1ec",
    "outputId": "ad5a6920-8965-4564-8d15-f32a979cc784"
   },
   "outputs": [
    {
     "data": {
      "text/plain": [
       "[1,\n",
       " 2,\n",
       " 3,\n",
       " 4,\n",
       " 5,\n",
       " 6,\n",
       " 7,\n",
       " 8,\n",
       " 9,\n",
       " 10,\n",
       " 11,\n",
       " 12,\n",
       " 13,\n",
       " 14,\n",
       " 15,\n",
       " 16,\n",
       " 17,\n",
       " 18,\n",
       " 19,\n",
       " 20,\n",
       " 21,\n",
       " 22,\n",
       " 23,\n",
       " 24,\n",
       " 25,\n",
       " 26,\n",
       " 27,\n",
       " 28,\n",
       " 29,\n",
       " 30,\n",
       " 31,\n",
       " 32,\n",
       " 33,\n",
       " 34,\n",
       " 35,\n",
       " 36,\n",
       " 37,\n",
       " 38,\n",
       " 39,\n",
       " 40,\n",
       " 41,\n",
       " 42,\n",
       " 43,\n",
       " 44,\n",
       " 45,\n",
       " 46,\n",
       " 47,\n",
       " 48,\n",
       " 49,\n",
       " 50]"
      ]
     },
     "execution_count": 92,
     "metadata": {
      "tags": []
     },
     "output_type": "execute_result"
    }
   ],
   "source": [
    "val_acc = [scores.epoch_data[i]['val_acc'] for i in range(len(scores.epoch_data))]\n",
    "train_acc = [scores.epoch_data[i]['acc'] for i in range(len(scores.epoch_data))]\n",
    "epochs = [scores.epoch_data[i]['epoch'] for i in range(len(scores.epoch_data))]"
   ]
  },
  {
   "cell_type": "code",
   "execution_count": 94,
   "metadata": {
    "colab": {
     "autoexec": {
      "startup": false,
      "wait_interval": 0
     },
     "base_uri": "https://localhost:8080/",
     "height": 294
    },
    "colab_type": "code",
    "executionInfo": {
     "elapsed": 7813,
     "status": "ok",
     "timestamp": 1529060347062,
     "user": {
      "displayName": "Paweł Lonca",
      "photoUrl": "https://lh3.googleusercontent.com/a/default-user=s128",
      "userId": "116249747680176633784"
     },
     "user_tz": -120
    },
    "id": "z8_kN8CjEkoE",
    "outputId": "ee86df8f-9c25-479e-855e-dd845b6c4d31"
   },
   "outputs": [
    {
     "data": {
      "image/png": "[encoded data removed]",
      "text/plain": [
       "<matplotlib.figure.Figure at 0x7f18caf576a0>"
      ]
     },
     "metadata": {
      "tags": []
     },
     "output_type": "display_data"
    }
   ],
   "source": [
    "plt.plot(epochs, val_acc, 'b', label = \"validation\")\n",
    "plt.plot(epochs, train_acc, 'r', label = \"training\")\n",
    "plt.title('Validation accuracy dla zestawu treningowego i walidacyjnego')\n",
    "plt.xlabel('Epochs')\n",
    "plt.ylabel('Validation accuracy')\n",
    "plt.xticks(np.arange(1, len(epochs)+1, step=5))\n",
    "plt.legend()\n",
    "plt.show()"
   ]
  },
  {
   "cell_type": "markdown",
   "metadata": {
    "colab_type": "text",
    "id": "FiYHti3sWXYL"
   },
   "source": [
    "# Przesyłanie rozwiązań\n",
    "\n",
    "Zadania należy wysyłać na adresy `m.matraszek@mimuw.edu.pl` i `t.tajmajer@mimuw.edu.pl` z tytułem o przedrostku [SI18-3]. Termin oddawania rozwiązań to środa 27.06 (+noc).\n",
    "\n",
    "Przesłane wykresy mogą być w dowolnej formie. Mile widziany byłby odpowiednio zmieniony ten notebook. Poniżej można znaleźć prosty sposób rysowania wykresów."
   ]
  },
  {
   "cell_type": "code",
   "execution_count": 0,
   "metadata": {
    "colab": {
     "autoexec": {
      "startup": false,
      "wait_interval": 0
     }
    },
    "colab_type": "code",
    "id": "EegIH-JjWXYN"
   },
   "outputs": [],
   "source": [
    "# Przykład użycia matplotlib do rysowania wykresów:\n",
    "\n",
    "# Wartości w punktach [0, 1, 2, ...]; podajemy tylko Y\n",
    "plt.plot([0, 1, 1.5, 6], label=\"asd\")\n",
    "# X podany w pierwszym argumencie, Y w drugim\n",
    "plt.plot([0, 2, 6], [7, 0, 0.6], label=\"bbb\")\n",
    "# rysuje legendę (linie podpisane jako `label`)\n",
    "plt.legend()"
   ]
  },
  {
   "cell_type": "code",
   "execution_count": 0,
   "metadata": {
    "colab": {
     "autoexec": {
      "startup": false,
      "wait_interval": 0
     }
    },
    "colab_type": "code",
    "id": "2rlAMKVbWXYY"
   },
   "outputs": [],
   "source": []
  },
  {
   "cell_type": "markdown",
   "metadata": {
    "colab_type": "text",
    "id": "fhsINoKVWXYb"
   },
   "source": [
    "# Zadanie alternatywne\n",
    "\n",
    "Zamiast rozwiązywania powyższych zadań, proponujemy też kontynuację przygody z OpenAI Gym.\n",
    "W tej wersji chcielibyśmy użyć dość prostej metody łączącej uczenie ze wzmocnieniem i sieci neuronowe. Jest to Policy Gradient. W miarę przystępny opis tej metody jest zamieszczony tutaj: http://karpathy.github.io/2016/05/31/rl/\n",
    "\n",
    "Używając tflearn z tą metodą, rozwiąż środowisko CartPole-v0 z OpenAI Gym. A może nawet coś trudniejszego?\n",
    "Wykonanie:\n",
    "```python\n",
    "model.fit({'input': X}, {'target': Y}, n_epoch=1)\n",
    "```\n",
    "pozwoli na jednokrotną iterację propagacji wstecznej na podanych danych. Metodę tę można wykonać ponownie z innymi danymi."
   ]
  },
  {
   "cell_type": "code",
   "execution_count": 0,
   "metadata": {
    "colab": {
     "autoexec": {
      "startup": false,
      "wait_interval": 0
     }
    },
    "colab_type": "code",
    "id": "HZUjO3qgPqM5"
   },
   "outputs": [],
   "source": []
  }
 ],
 "metadata": {
  "accelerator": "GPU",
  "colab": {
   "collapsed_sections": [],
   "default_view": {},
   "name": "Zadanie3.ipynb",
   "provenance": [
    {
     "file_id": "1vFiBKgSNs0jpHESLK2aa_PDjHRNuOHDM",
     "timestamp": 1528307847326
    }
   ],
   "version": "0.3.2",
   "views": {}
  },
  "kernelspec": {
   "display_name": "Python 3",
   "language": "python",
   "name": "python3"
  },
  "language_info": {
   "codemirror_mode": {
    "name": "ipython",
    "version": 3
   },
   "file_extension": ".py",
   "mimetype": "text/x-python",
   "name": "python",
   "nbconvert_exporter": "python",
   "pygments_lexer": "ipython3",
   "version": "3.6.6"
  }
 },
 "nbformat": 4,
 "nbformat_minor": 1
}
